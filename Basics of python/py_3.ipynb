{
 "cells": [
  {
   "cell_type": "code",
   "execution_count": 5,
   "id": "bd142cbb",
   "metadata": {},
   "outputs": [],
   "source": [
    "def print_num(x):\n",
    "    \n",
    "    if x== 0:\n",
    "        num_list = [i for i in range(100, 201) if i % 2 ==0]\n",
    "    else:\n",
    "        num_list = [i for i in range(100, 201) if i % 2 !=0]\n",
    "        \n",
    "    for i in num_list:\n",
    "        \n",
    "        print(i, i ** 2)"
   ]
  },
  {
   "cell_type": "code",
   "execution_count": 7,
   "id": "3b124bc5",
   "metadata": {},
   "outputs": [
    {
     "name": "stdout",
     "output_type": "stream",
     "text": [
      "Select 0 for even and 1 for odd1\n"
     ]
    }
   ],
   "source": [
    "x = int(input('Select 0 for even and 1 for odd'))"
   ]
  },
  {
   "cell_type": "code",
   "execution_count": 8,
   "id": "1d279af1",
   "metadata": {},
   "outputs": [
    {
     "name": "stdout",
     "output_type": "stream",
     "text": [
      "101 10201\n",
      "103 10609\n",
      "105 11025\n",
      "107 11449\n",
      "109 11881\n",
      "111 12321\n",
      "113 12769\n",
      "115 13225\n",
      "117 13689\n",
      "119 14161\n",
      "121 14641\n",
      "123 15129\n",
      "125 15625\n",
      "127 16129\n",
      "129 16641\n",
      "131 17161\n",
      "133 17689\n",
      "135 18225\n",
      "137 18769\n",
      "139 19321\n",
      "141 19881\n",
      "143 20449\n",
      "145 21025\n",
      "147 21609\n",
      "149 22201\n",
      "151 22801\n",
      "153 23409\n",
      "155 24025\n",
      "157 24649\n",
      "159 25281\n",
      "161 25921\n",
      "163 26569\n",
      "165 27225\n",
      "167 27889\n",
      "169 28561\n",
      "171 29241\n",
      "173 29929\n",
      "175 30625\n",
      "177 31329\n",
      "179 32041\n",
      "181 32761\n",
      "183 33489\n",
      "185 34225\n",
      "187 34969\n",
      "189 35721\n",
      "191 36481\n",
      "193 37249\n",
      "195 38025\n",
      "197 38809\n",
      "199 39601\n"
     ]
    }
   ],
   "source": [
    "print_num(x)"
   ]
  },
  {
   "cell_type": "code",
   "execution_count": null,
   "id": "ad8a0fbc",
   "metadata": {},
   "outputs": [],
   "source": []
  }
 ],
 "metadata": {
  "kernelspec": {
   "display_name": "Python 3 (ipykernel)",
   "language": "python",
   "name": "python3"
  },
  "language_info": {
   "codemirror_mode": {
    "name": "ipython",
    "version": 3
   },
   "file_extension": ".py",
   "mimetype": "text/x-python",
   "name": "python",
   "nbconvert_exporter": "python",
   "pygments_lexer": "ipython3",
   "version": "3.9.13"
  }
 },
 "nbformat": 4,
 "nbformat_minor": 5
}
