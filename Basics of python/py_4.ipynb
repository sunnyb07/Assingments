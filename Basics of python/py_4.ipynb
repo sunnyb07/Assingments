{
 "cells": [
  {
   "cell_type": "code",
   "execution_count": 3,
   "id": "53291ae6",
   "metadata": {},
   "outputs": [],
   "source": [
    "word = 'This is a sample text. This text will be used to demonstrate the word counter.'"
   ]
  },
  {
   "cell_type": "code",
   "execution_count": 6,
   "id": "78cb18f2",
   "metadata": {},
   "outputs": [],
   "source": [
    "word_list = word.split(' ')"
   ]
  },
  {
   "cell_type": "code",
   "execution_count": 7,
   "id": "5dadabc5",
   "metadata": {},
   "outputs": [
    {
     "data": {
      "text/plain": [
       "['This',\n",
       " 'is',\n",
       " 'a',\n",
       " 'sample',\n",
       " 'text.',\n",
       " 'This',\n",
       " 'text',\n",
       " 'will',\n",
       " 'be',\n",
       " 'used',\n",
       " 'to',\n",
       " 'demonstrate',\n",
       " 'the',\n",
       " 'word',\n",
       " 'counter.']"
      ]
     },
     "execution_count": 7,
     "metadata": {},
     "output_type": "execute_result"
    }
   ],
   "source": [
    "word_list"
   ]
  },
  {
   "cell_type": "code",
   "execution_count": 8,
   "id": "c674cafc",
   "metadata": {},
   "outputs": [
    {
     "data": {
      "text/plain": [
       "{'This',\n",
       " 'a',\n",
       " 'be',\n",
       " 'counter.',\n",
       " 'demonstrate',\n",
       " 'is',\n",
       " 'sample',\n",
       " 'text',\n",
       " 'text.',\n",
       " 'the',\n",
       " 'to',\n",
       " 'used',\n",
       " 'will',\n",
       " 'word'}"
      ]
     },
     "execution_count": 8,
     "metadata": {},
     "output_type": "execute_result"
    }
   ],
   "source": [
    "set(word_list)"
   ]
  },
  {
   "cell_type": "code",
   "execution_count": null,
   "id": "ddefef05",
   "metadata": {},
   "outputs": [],
   "source": [
    "unique_count = "
   ]
  },
  {
   "cell_type": "code",
   "execution_count": 11,
   "id": "58baa01d",
   "metadata": {},
   "outputs": [
    {
     "name": "stdout",
     "output_type": "stream",
     "text": [
      "'This' is occurring 2 times\n",
      "'is' is occurring 1 times\n",
      "'a' is occurring 1 times\n",
      "'sample' is occurring 1 times\n",
      "'text.' is occurring 1 times\n",
      "'text' is occurring 1 times\n",
      "'will' is occurring 1 times\n",
      "'be' is occurring 1 times\n",
      "'used' is occurring 1 times\n",
      "'to' is occurring 1 times\n",
      "'demonstrate' is occurring 1 times\n",
      "'the' is occurring 1 times\n",
      "'word' is occurring 1 times\n",
      "'counter.' is occurring 1 times\n"
     ]
    }
   ],
   "source": [
    "def count_unique_words(text):\n",
    "    words = text.split()\n",
    "    word_counts = {}\n",
    "\n",
    "    for word in words:\n",
    "        if word in word_counts:\n",
    "            word_counts[word] += 1\n",
    "        else:\n",
    "            word_counts[word] = 1\n",
    "\n",
    "    # Return the word counts\n",
    "    return word_counts\n",
    "\n",
    "text = 'This is a sample text. This text will be used to demonstrate the word counter.'\n",
    "word_counts = count_unique_words(text)\n",
    "for word, count in word_counts.items():\n",
    "    print(f\"'{word}' is occurring {count} times\")\n"
   ]
  },
  {
   "cell_type": "code",
   "execution_count": 12,
   "id": "ec119aaa",
   "metadata": {},
   "outputs": [
    {
     "name": "stdout",
     "output_type": "stream",
     "text": [
      "It is a palindrome\n"
     ]
    }
   ],
   "source": [
    "def palindrome(text):\n",
    "    if text == text[::-1]:\n",
    "        print('It is a palindrome')\n",
    "    else:\n",
    "        print('It is not a palindrome')\n",
    "        \n",
    "text = 'racecar'\n",
    "\n",
    "palindrome(text)"
   ]
  },
  {
   "cell_type": "code",
   "execution_count": null,
   "id": "903af911",
   "metadata": {},
   "outputs": [],
   "source": []
  }
 ],
 "metadata": {
  "kernelspec": {
   "display_name": "Python 3 (ipykernel)",
   "language": "python",
   "name": "python3"
  },
  "language_info": {
   "codemirror_mode": {
    "name": "ipython",
    "version": 3
   },
   "file_extension": ".py",
   "mimetype": "text/x-python",
   "name": "python",
   "nbconvert_exporter": "python",
   "pygments_lexer": "ipython3",
   "version": "3.9.13"
  }
 },
 "nbformat": 4,
 "nbformat_minor": 5
}
