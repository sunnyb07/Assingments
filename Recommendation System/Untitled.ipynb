{
 "cells": [
  {
   "cell_type": "code",
   "execution_count": 1,
   "id": "252ab424",
   "metadata": {},
   "outputs": [],
   "source": [
    "# Importing Libraries"
   ]
  },
  {
   "cell_type": "code",
   "execution_count": 11,
   "id": "9428355b",
   "metadata": {},
   "outputs": [],
   "source": [
    "import pandas as pd\n",
    "import numpy as np\n",
    "import matplotlib.pyplot as plt\n",
    "import re"
   ]
  },
  {
   "cell_type": "code",
   "execution_count": 12,
   "id": "35d834f9",
   "metadata": {},
   "outputs": [],
   "source": [
    "# Reading Dataset"
   ]
  },
  {
   "cell_type": "code",
   "execution_count": 13,
   "id": "7099d577",
   "metadata": {},
   "outputs": [],
   "source": [
    "df = pd.read_csv('anime.csv')"
   ]
  },
  {
   "cell_type": "code",
   "execution_count": 14,
   "id": "206c40ec",
   "metadata": {},
   "outputs": [
    {
     "data": {
      "text/html": [
       "<div>\n",
       "<style scoped>\n",
       "    .dataframe tbody tr th:only-of-type {\n",
       "        vertical-align: middle;\n",
       "    }\n",
       "\n",
       "    .dataframe tbody tr th {\n",
       "        vertical-align: top;\n",
       "    }\n",
       "\n",
       "    .dataframe thead th {\n",
       "        text-align: right;\n",
       "    }\n",
       "</style>\n",
       "<table border=\"1\" class=\"dataframe\">\n",
       "  <thead>\n",
       "    <tr style=\"text-align: right;\">\n",
       "      <th></th>\n",
       "      <th>anime_id</th>\n",
       "      <th>name</th>\n",
       "      <th>genre</th>\n",
       "      <th>type</th>\n",
       "      <th>episodes</th>\n",
       "      <th>rating</th>\n",
       "      <th>members</th>\n",
       "    </tr>\n",
       "  </thead>\n",
       "  <tbody>\n",
       "    <tr>\n",
       "      <th>0</th>\n",
       "      <td>32281</td>\n",
       "      <td>Kimi no Na wa.</td>\n",
       "      <td>Drama, Romance, School, Supernatural</td>\n",
       "      <td>Movie</td>\n",
       "      <td>1</td>\n",
       "      <td>9.37</td>\n",
       "      <td>200630</td>\n",
       "    </tr>\n",
       "    <tr>\n",
       "      <th>1</th>\n",
       "      <td>5114</td>\n",
       "      <td>Fullmetal Alchemist: Brotherhood</td>\n",
       "      <td>Action, Adventure, Drama, Fantasy, Magic, Mili...</td>\n",
       "      <td>TV</td>\n",
       "      <td>64</td>\n",
       "      <td>9.26</td>\n",
       "      <td>793665</td>\n",
       "    </tr>\n",
       "    <tr>\n",
       "      <th>2</th>\n",
       "      <td>28977</td>\n",
       "      <td>Gintama°</td>\n",
       "      <td>Action, Comedy, Historical, Parody, Samurai, S...</td>\n",
       "      <td>TV</td>\n",
       "      <td>51</td>\n",
       "      <td>9.25</td>\n",
       "      <td>114262</td>\n",
       "    </tr>\n",
       "    <tr>\n",
       "      <th>3</th>\n",
       "      <td>9253</td>\n",
       "      <td>Steins;Gate</td>\n",
       "      <td>Sci-Fi, Thriller</td>\n",
       "      <td>TV</td>\n",
       "      <td>24</td>\n",
       "      <td>9.17</td>\n",
       "      <td>673572</td>\n",
       "    </tr>\n",
       "    <tr>\n",
       "      <th>4</th>\n",
       "      <td>9969</td>\n",
       "      <td>Gintama&amp;#039;</td>\n",
       "      <td>Action, Comedy, Historical, Parody, Samurai, S...</td>\n",
       "      <td>TV</td>\n",
       "      <td>51</td>\n",
       "      <td>9.16</td>\n",
       "      <td>151266</td>\n",
       "    </tr>\n",
       "  </tbody>\n",
       "</table>\n",
       "</div>"
      ],
      "text/plain": [
       "   anime_id                              name  \\\n",
       "0     32281                    Kimi no Na wa.   \n",
       "1      5114  Fullmetal Alchemist: Brotherhood   \n",
       "2     28977                          Gintama°   \n",
       "3      9253                       Steins;Gate   \n",
       "4      9969                     Gintama&#039;   \n",
       "\n",
       "                                               genre   type episodes  rating  \\\n",
       "0               Drama, Romance, School, Supernatural  Movie        1    9.37   \n",
       "1  Action, Adventure, Drama, Fantasy, Magic, Mili...     TV       64    9.26   \n",
       "2  Action, Comedy, Historical, Parody, Samurai, S...     TV       51    9.25   \n",
       "3                                   Sci-Fi, Thriller     TV       24    9.17   \n",
       "4  Action, Comedy, Historical, Parody, Samurai, S...     TV       51    9.16   \n",
       "\n",
       "   members  \n",
       "0   200630  \n",
       "1   793665  \n",
       "2   114262  \n",
       "3   673572  \n",
       "4   151266  "
      ]
     },
     "execution_count": 14,
     "metadata": {},
     "output_type": "execute_result"
    }
   ],
   "source": [
    "df.head()"
   ]
  },
  {
   "cell_type": "code",
   "execution_count": 15,
   "id": "d54e8021",
   "metadata": {},
   "outputs": [
    {
     "name": "stdout",
     "output_type": "stream",
     "text": [
      "<class 'pandas.core.frame.DataFrame'>\n",
      "RangeIndex: 12294 entries, 0 to 12293\n",
      "Data columns (total 7 columns):\n",
      " #   Column    Non-Null Count  Dtype  \n",
      "---  ------    --------------  -----  \n",
      " 0   anime_id  12294 non-null  int64  \n",
      " 1   name      12294 non-null  object \n",
      " 2   genre     12232 non-null  object \n",
      " 3   type      12269 non-null  object \n",
      " 4   episodes  12294 non-null  object \n",
      " 5   rating    12064 non-null  float64\n",
      " 6   members   12294 non-null  int64  \n",
      "dtypes: float64(1), int64(2), object(4)\n",
      "memory usage: 672.5+ KB\n"
     ]
    }
   ],
   "source": [
    "df.info()"
   ]
  },
  {
   "cell_type": "code",
   "execution_count": 16,
   "id": "fe308079",
   "metadata": {},
   "outputs": [],
   "source": [
    "# We can drop 'anime_id' as it will not contribute to cosine similarity\n",
    "df.drop('anime_id', inplace=True, axis=1)"
   ]
  },
  {
   "cell_type": "code",
   "execution_count": 17,
   "id": "274b5a52",
   "metadata": {},
   "outputs": [
    {
     "data": {
      "text/plain": [
       "(12294, 6)"
      ]
     },
     "execution_count": 17,
     "metadata": {},
     "output_type": "execute_result"
    }
   ],
   "source": [
    "df.shape"
   ]
  },
  {
   "cell_type": "code",
   "execution_count": 18,
   "id": "1200c261",
   "metadata": {},
   "outputs": [],
   "source": [
    "# The rows with null values must be dropped to avoid confusion while deriving consine similarity matrix\n",
    "df.dropna(axis=0, inplace=True)"
   ]
  },
  {
   "cell_type": "code",
   "execution_count": 19,
   "id": "e60fea86",
   "metadata": {},
   "outputs": [],
   "source": [
    "df['genre'] = df['genre'].map(lambda x: x.lower().split(','))"
   ]
  },
  {
   "cell_type": "markdown",
   "id": "9d0846eb",
   "metadata": {},
   "source": [
    "The anime name to be displayed in recommendations must be stripped off of all unnecessary characters"
   ]
  },
  {
   "cell_type": "code",
   "execution_count": 20,
   "id": "4f70809b",
   "metadata": {},
   "outputs": [],
   "source": [
    "df['anime_name'] = df['name'].map(lambda name: re.sub('[.,@#$%^&*{}°;?!]',' ',name))"
   ]
  },
  {
   "cell_type": "markdown",
   "id": "f295b057",
   "metadata": {},
   "source": [
    "The 'name' field must have only alphabets and digits before passing it on for the cosine similarity matrix formation"
   ]
  },
  {
   "cell_type": "code",
   "execution_count": 21,
   "id": "b739dd5c",
   "metadata": {},
   "outputs": [],
   "source": [
    "df['name'] = df['name'].map(lambda name: re.sub(' ','',\" \".join(re.findall('[a-zA-Z0-9]',name.lower()))))"
   ]
  },
  {
   "cell_type": "code",
   "execution_count": 22,
   "id": "f7c77abf",
   "metadata": {},
   "outputs": [
    {
     "data": {
      "text/html": [
       "<div>\n",
       "<style scoped>\n",
       "    .dataframe tbody tr th:only-of-type {\n",
       "        vertical-align: middle;\n",
       "    }\n",
       "\n",
       "    .dataframe tbody tr th {\n",
       "        vertical-align: top;\n",
       "    }\n",
       "\n",
       "    .dataframe thead th {\n",
       "        text-align: right;\n",
       "    }\n",
       "</style>\n",
       "<table border=\"1\" class=\"dataframe\">\n",
       "  <thead>\n",
       "    <tr style=\"text-align: right;\">\n",
       "      <th></th>\n",
       "      <th>name</th>\n",
       "      <th>genre</th>\n",
       "      <th>type</th>\n",
       "      <th>episodes</th>\n",
       "      <th>rating</th>\n",
       "      <th>members</th>\n",
       "      <th>anime_name</th>\n",
       "    </tr>\n",
       "  </thead>\n",
       "  <tbody>\n",
       "    <tr>\n",
       "      <th>0</th>\n",
       "      <td>kiminonawa</td>\n",
       "      <td>[drama,  romance,  school,  supernatural]</td>\n",
       "      <td>Movie</td>\n",
       "      <td>1</td>\n",
       "      <td>9.37</td>\n",
       "      <td>200630</td>\n",
       "      <td>Kimi no Na wa</td>\n",
       "    </tr>\n",
       "    <tr>\n",
       "      <th>1</th>\n",
       "      <td>fullmetalalchemistbrotherhood</td>\n",
       "      <td>[action,  adventure,  drama,  fantasy,  magic,...</td>\n",
       "      <td>TV</td>\n",
       "      <td>64</td>\n",
       "      <td>9.26</td>\n",
       "      <td>793665</td>\n",
       "      <td>Fullmetal Alchemist: Brotherhood</td>\n",
       "    </tr>\n",
       "    <tr>\n",
       "      <th>2</th>\n",
       "      <td>gintama</td>\n",
       "      <td>[action,  comedy,  historical,  parody,  samur...</td>\n",
       "      <td>TV</td>\n",
       "      <td>51</td>\n",
       "      <td>9.25</td>\n",
       "      <td>114262</td>\n",
       "      <td>Gintama</td>\n",
       "    </tr>\n",
       "    <tr>\n",
       "      <th>3</th>\n",
       "      <td>steinsgate</td>\n",
       "      <td>[sci-fi,  thriller]</td>\n",
       "      <td>TV</td>\n",
       "      <td>24</td>\n",
       "      <td>9.17</td>\n",
       "      <td>673572</td>\n",
       "      <td>Steins Gate</td>\n",
       "    </tr>\n",
       "    <tr>\n",
       "      <th>4</th>\n",
       "      <td>gintama039</td>\n",
       "      <td>[action,  comedy,  historical,  parody,  samur...</td>\n",
       "      <td>TV</td>\n",
       "      <td>51</td>\n",
       "      <td>9.16</td>\n",
       "      <td>151266</td>\n",
       "      <td>Gintama  039</td>\n",
       "    </tr>\n",
       "  </tbody>\n",
       "</table>\n",
       "</div>"
      ],
      "text/plain": [
       "                            name  \\\n",
       "0                     kiminonawa   \n",
       "1  fullmetalalchemistbrotherhood   \n",
       "2                        gintama   \n",
       "3                     steinsgate   \n",
       "4                     gintama039   \n",
       "\n",
       "                                               genre   type episodes  rating  \\\n",
       "0          [drama,  romance,  school,  supernatural]  Movie        1    9.37   \n",
       "1  [action,  adventure,  drama,  fantasy,  magic,...     TV       64    9.26   \n",
       "2  [action,  comedy,  historical,  parody,  samur...     TV       51    9.25   \n",
       "3                                [sci-fi,  thriller]     TV       24    9.17   \n",
       "4  [action,  comedy,  historical,  parody,  samur...     TV       51    9.16   \n",
       "\n",
       "   members                        anime_name  \n",
       "0   200630                    Kimi no Na wa   \n",
       "1   793665  Fullmetal Alchemist: Brotherhood  \n",
       "2   114262                          Gintama   \n",
       "3   673572                       Steins Gate  \n",
       "4   151266                     Gintama  039   "
      ]
     },
     "execution_count": 22,
     "metadata": {},
     "output_type": "execute_result"
    }
   ],
   "source": [
    "df.head()"
   ]
  },
  {
   "cell_type": "code",
   "execution_count": 23,
   "id": "7a8b5647",
   "metadata": {},
   "outputs": [],
   "source": [
    "# Converting object datatype to int\n",
    "df['episodes'] = df['episodes'].map(lambda x: int(x) if x != 'Unknown' else None)"
   ]
  },
  {
   "cell_type": "code",
   "execution_count": 24,
   "id": "df62ab2c",
   "metadata": {},
   "outputs": [],
   "source": [
    "df['anime_size'] = ''"
   ]
  },
  {
   "cell_type": "code",
   "execution_count": 25,
   "id": "7df1a41a",
   "metadata": {},
   "outputs": [],
   "source": [
    "# new column 'anime_size' has information about the size of the anime based on number of episodes\n",
    "df['anime_size'] = df['episodes'].map(lambda x: 'tiny' if (0<x<=1) \n",
    "                                      else ('small' if (1<x<=50) \n",
    "                                            else ('medium' if (50<x<=100) \n",
    "                                                  else ('large' if (100<x<=200) \n",
    "                                                        else ('verylarge' if (200<x<=500) \n",
    "                                                              else 'superlarge')))))"
   ]
  },
  {
   "cell_type": "code",
   "execution_count": 26,
   "id": "8d81f3be",
   "metadata": {},
   "outputs": [],
   "source": [
    "df['popularity'] = ''"
   ]
  },
  {
   "cell_type": "code",
   "execution_count": 27,
   "id": "c6b98c14",
   "metadata": {},
   "outputs": [],
   "source": [
    "# new column 'popularity' will have information about the fan following of each anime\n",
    "df['popularity'] = df['members'].map(lambda x: 'low' if (0<x<=1000) \n",
    "                                      else ('moderate' if (1000<x<=10000) \n",
    "                                            else ('high' if (10000<x<=100000) \n",
    "                                                  else 'veryhigh')))"
   ]
  },
  {
   "cell_type": "code",
   "execution_count": 28,
   "id": "8bd6af6f",
   "metadata": {},
   "outputs": [
    {
     "data": {
      "text/html": [
       "<div>\n",
       "<style scoped>\n",
       "    .dataframe tbody tr th:only-of-type {\n",
       "        vertical-align: middle;\n",
       "    }\n",
       "\n",
       "    .dataframe tbody tr th {\n",
       "        vertical-align: top;\n",
       "    }\n",
       "\n",
       "    .dataframe thead th {\n",
       "        text-align: right;\n",
       "    }\n",
       "</style>\n",
       "<table border=\"1\" class=\"dataframe\">\n",
       "  <thead>\n",
       "    <tr style=\"text-align: right;\">\n",
       "      <th></th>\n",
       "      <th>name</th>\n",
       "      <th>genre</th>\n",
       "      <th>type</th>\n",
       "      <th>episodes</th>\n",
       "      <th>rating</th>\n",
       "      <th>members</th>\n",
       "      <th>anime_name</th>\n",
       "      <th>anime_size</th>\n",
       "      <th>popularity</th>\n",
       "    </tr>\n",
       "  </thead>\n",
       "  <tbody>\n",
       "    <tr>\n",
       "      <th>0</th>\n",
       "      <td>kiminonawa</td>\n",
       "      <td>[drama,  romance,  school,  supernatural]</td>\n",
       "      <td>Movie</td>\n",
       "      <td>1.0</td>\n",
       "      <td>9.37</td>\n",
       "      <td>200630</td>\n",
       "      <td>Kimi no Na wa</td>\n",
       "      <td>tiny</td>\n",
       "      <td>veryhigh</td>\n",
       "    </tr>\n",
       "    <tr>\n",
       "      <th>1</th>\n",
       "      <td>fullmetalalchemistbrotherhood</td>\n",
       "      <td>[action,  adventure,  drama,  fantasy,  magic,...</td>\n",
       "      <td>TV</td>\n",
       "      <td>64.0</td>\n",
       "      <td>9.26</td>\n",
       "      <td>793665</td>\n",
       "      <td>Fullmetal Alchemist: Brotherhood</td>\n",
       "      <td>medium</td>\n",
       "      <td>veryhigh</td>\n",
       "    </tr>\n",
       "    <tr>\n",
       "      <th>2</th>\n",
       "      <td>gintama</td>\n",
       "      <td>[action,  comedy,  historical,  parody,  samur...</td>\n",
       "      <td>TV</td>\n",
       "      <td>51.0</td>\n",
       "      <td>9.25</td>\n",
       "      <td>114262</td>\n",
       "      <td>Gintama</td>\n",
       "      <td>medium</td>\n",
       "      <td>veryhigh</td>\n",
       "    </tr>\n",
       "    <tr>\n",
       "      <th>3</th>\n",
       "      <td>steinsgate</td>\n",
       "      <td>[sci-fi,  thriller]</td>\n",
       "      <td>TV</td>\n",
       "      <td>24.0</td>\n",
       "      <td>9.17</td>\n",
       "      <td>673572</td>\n",
       "      <td>Steins Gate</td>\n",
       "      <td>small</td>\n",
       "      <td>veryhigh</td>\n",
       "    </tr>\n",
       "    <tr>\n",
       "      <th>4</th>\n",
       "      <td>gintama039</td>\n",
       "      <td>[action,  comedy,  historical,  parody,  samur...</td>\n",
       "      <td>TV</td>\n",
       "      <td>51.0</td>\n",
       "      <td>9.16</td>\n",
       "      <td>151266</td>\n",
       "      <td>Gintama  039</td>\n",
       "      <td>medium</td>\n",
       "      <td>veryhigh</td>\n",
       "    </tr>\n",
       "  </tbody>\n",
       "</table>\n",
       "</div>"
      ],
      "text/plain": [
       "                            name  \\\n",
       "0                     kiminonawa   \n",
       "1  fullmetalalchemistbrotherhood   \n",
       "2                        gintama   \n",
       "3                     steinsgate   \n",
       "4                     gintama039   \n",
       "\n",
       "                                               genre   type  episodes  rating  \\\n",
       "0          [drama,  romance,  school,  supernatural]  Movie       1.0    9.37   \n",
       "1  [action,  adventure,  drama,  fantasy,  magic,...     TV      64.0    9.26   \n",
       "2  [action,  comedy,  historical,  parody,  samur...     TV      51.0    9.25   \n",
       "3                                [sci-fi,  thriller]     TV      24.0    9.17   \n",
       "4  [action,  comedy,  historical,  parody,  samur...     TV      51.0    9.16   \n",
       "\n",
       "   members                        anime_name anime_size popularity  \n",
       "0   200630                    Kimi no Na wa        tiny   veryhigh  \n",
       "1   793665  Fullmetal Alchemist: Brotherhood     medium   veryhigh  \n",
       "2   114262                          Gintama      medium   veryhigh  \n",
       "3   673572                       Steins Gate      small   veryhigh  \n",
       "4   151266                     Gintama  039      medium   veryhigh  "
      ]
     },
     "execution_count": 28,
     "metadata": {},
     "output_type": "execute_result"
    }
   ],
   "source": [
    "df.head()"
   ]
  },
  {
   "cell_type": "code",
   "execution_count": 29,
   "id": "2a6d3906",
   "metadata": {},
   "outputs": [],
   "source": [
    "# We must consider only the data relevant for formulating cosine similarity matrix and drop all other columns.¶\n",
    "to_be_dropped = ['episodes','rating','members']"
   ]
  },
  {
   "cell_type": "code",
   "execution_count": 30,
   "id": "50ce6c03",
   "metadata": {},
   "outputs": [],
   "source": [
    "str_data = df.drop(to_be_dropped, axis=1)"
   ]
  },
  {
   "cell_type": "code",
   "execution_count": 31,
   "id": "20f66bcd",
   "metadata": {},
   "outputs": [
    {
     "data": {
      "text/html": [
       "<div>\n",
       "<style scoped>\n",
       "    .dataframe tbody tr th:only-of-type {\n",
       "        vertical-align: middle;\n",
       "    }\n",
       "\n",
       "    .dataframe tbody tr th {\n",
       "        vertical-align: top;\n",
       "    }\n",
       "\n",
       "    .dataframe thead th {\n",
       "        text-align: right;\n",
       "    }\n",
       "</style>\n",
       "<table border=\"1\" class=\"dataframe\">\n",
       "  <thead>\n",
       "    <tr style=\"text-align: right;\">\n",
       "      <th></th>\n",
       "      <th>name</th>\n",
       "      <th>genre</th>\n",
       "      <th>type</th>\n",
       "      <th>anime_name</th>\n",
       "      <th>anime_size</th>\n",
       "      <th>popularity</th>\n",
       "    </tr>\n",
       "  </thead>\n",
       "  <tbody>\n",
       "    <tr>\n",
       "      <th>0</th>\n",
       "      <td>kiminonawa</td>\n",
       "      <td>[drama,  romance,  school,  supernatural]</td>\n",
       "      <td>Movie</td>\n",
       "      <td>Kimi no Na wa</td>\n",
       "      <td>tiny</td>\n",
       "      <td>veryhigh</td>\n",
       "    </tr>\n",
       "    <tr>\n",
       "      <th>1</th>\n",
       "      <td>fullmetalalchemistbrotherhood</td>\n",
       "      <td>[action,  adventure,  drama,  fantasy,  magic,...</td>\n",
       "      <td>TV</td>\n",
       "      <td>Fullmetal Alchemist: Brotherhood</td>\n",
       "      <td>medium</td>\n",
       "      <td>veryhigh</td>\n",
       "    </tr>\n",
       "    <tr>\n",
       "      <th>2</th>\n",
       "      <td>gintama</td>\n",
       "      <td>[action,  comedy,  historical,  parody,  samur...</td>\n",
       "      <td>TV</td>\n",
       "      <td>Gintama</td>\n",
       "      <td>medium</td>\n",
       "      <td>veryhigh</td>\n",
       "    </tr>\n",
       "    <tr>\n",
       "      <th>3</th>\n",
       "      <td>steinsgate</td>\n",
       "      <td>[sci-fi,  thriller]</td>\n",
       "      <td>TV</td>\n",
       "      <td>Steins Gate</td>\n",
       "      <td>small</td>\n",
       "      <td>veryhigh</td>\n",
       "    </tr>\n",
       "    <tr>\n",
       "      <th>4</th>\n",
       "      <td>gintama039</td>\n",
       "      <td>[action,  comedy,  historical,  parody,  samur...</td>\n",
       "      <td>TV</td>\n",
       "      <td>Gintama  039</td>\n",
       "      <td>medium</td>\n",
       "      <td>veryhigh</td>\n",
       "    </tr>\n",
       "  </tbody>\n",
       "</table>\n",
       "</div>"
      ],
      "text/plain": [
       "                            name  \\\n",
       "0                     kiminonawa   \n",
       "1  fullmetalalchemistbrotherhood   \n",
       "2                        gintama   \n",
       "3                     steinsgate   \n",
       "4                     gintama039   \n",
       "\n",
       "                                               genre   type  \\\n",
       "0          [drama,  romance,  school,  supernatural]  Movie   \n",
       "1  [action,  adventure,  drama,  fantasy,  magic,...     TV   \n",
       "2  [action,  comedy,  historical,  parody,  samur...     TV   \n",
       "3                                [sci-fi,  thriller]     TV   \n",
       "4  [action,  comedy,  historical,  parody,  samur...     TV   \n",
       "\n",
       "                         anime_name anime_size popularity  \n",
       "0                    Kimi no Na wa        tiny   veryhigh  \n",
       "1  Fullmetal Alchemist: Brotherhood     medium   veryhigh  \n",
       "2                          Gintama      medium   veryhigh  \n",
       "3                       Steins Gate      small   veryhigh  \n",
       "4                     Gintama  039      medium   veryhigh  "
      ]
     },
     "execution_count": 31,
     "metadata": {},
     "output_type": "execute_result"
    }
   ],
   "source": [
    "str_data.head()"
   ]
  },
  {
   "cell_type": "code",
   "execution_count": 32,
   "id": "4d8b58eb",
   "metadata": {},
   "outputs": [],
   "source": [
    "str_data['combined'] = ''\n",
    "columns = str_data.columns\n",
    "for index, row in str_data.iterrows():\n",
    "    words = ''\n",
    "    for col in columns:\n",
    "        if col != 'genre' and col != 'anime_name':\n",
    "            words = words + ' ' + row[col]\n",
    "        elif col != 'anime_name':\n",
    "            for genre in row[col]:\n",
    "                words = words + ' ' + genre\n",
    "    row['combined'] = words"
   ]
  },
  {
   "cell_type": "code",
   "execution_count": 33,
   "id": "34b178ef",
   "metadata": {},
   "outputs": [
    {
     "data": {
      "text/html": [
       "<div>\n",
       "<style scoped>\n",
       "    .dataframe tbody tr th:only-of-type {\n",
       "        vertical-align: middle;\n",
       "    }\n",
       "\n",
       "    .dataframe tbody tr th {\n",
       "        vertical-align: top;\n",
       "    }\n",
       "\n",
       "    .dataframe thead th {\n",
       "        text-align: right;\n",
       "    }\n",
       "</style>\n",
       "<table border=\"1\" class=\"dataframe\">\n",
       "  <thead>\n",
       "    <tr style=\"text-align: right;\">\n",
       "      <th></th>\n",
       "      <th>name</th>\n",
       "      <th>genre</th>\n",
       "      <th>type</th>\n",
       "      <th>anime_name</th>\n",
       "      <th>anime_size</th>\n",
       "      <th>popularity</th>\n",
       "      <th>combined</th>\n",
       "    </tr>\n",
       "  </thead>\n",
       "  <tbody>\n",
       "    <tr>\n",
       "      <th>0</th>\n",
       "      <td>kiminonawa</td>\n",
       "      <td>[drama,  romance,  school,  supernatural]</td>\n",
       "      <td>Movie</td>\n",
       "      <td>Kimi no Na wa</td>\n",
       "      <td>tiny</td>\n",
       "      <td>veryhigh</td>\n",
       "      <td>kiminonawa drama  romance  school  supernatur...</td>\n",
       "    </tr>\n",
       "    <tr>\n",
       "      <th>1</th>\n",
       "      <td>fullmetalalchemistbrotherhood</td>\n",
       "      <td>[action,  adventure,  drama,  fantasy,  magic,...</td>\n",
       "      <td>TV</td>\n",
       "      <td>Fullmetal Alchemist: Brotherhood</td>\n",
       "      <td>medium</td>\n",
       "      <td>veryhigh</td>\n",
       "      <td>fullmetalalchemistbrotherhood action  adventu...</td>\n",
       "    </tr>\n",
       "    <tr>\n",
       "      <th>2</th>\n",
       "      <td>gintama</td>\n",
       "      <td>[action,  comedy,  historical,  parody,  samur...</td>\n",
       "      <td>TV</td>\n",
       "      <td>Gintama</td>\n",
       "      <td>medium</td>\n",
       "      <td>veryhigh</td>\n",
       "      <td>gintama action  comedy  historical  parody  s...</td>\n",
       "    </tr>\n",
       "    <tr>\n",
       "      <th>3</th>\n",
       "      <td>steinsgate</td>\n",
       "      <td>[sci-fi,  thriller]</td>\n",
       "      <td>TV</td>\n",
       "      <td>Steins Gate</td>\n",
       "      <td>small</td>\n",
       "      <td>veryhigh</td>\n",
       "      <td>steinsgate sci-fi  thriller TV small veryhigh</td>\n",
       "    </tr>\n",
       "    <tr>\n",
       "      <th>4</th>\n",
       "      <td>gintama039</td>\n",
       "      <td>[action,  comedy,  historical,  parody,  samur...</td>\n",
       "      <td>TV</td>\n",
       "      <td>Gintama  039</td>\n",
       "      <td>medium</td>\n",
       "      <td>veryhigh</td>\n",
       "      <td>gintama039 action  comedy  historical  parody...</td>\n",
       "    </tr>\n",
       "  </tbody>\n",
       "</table>\n",
       "</div>"
      ],
      "text/plain": [
       "                            name  \\\n",
       "0                     kiminonawa   \n",
       "1  fullmetalalchemistbrotherhood   \n",
       "2                        gintama   \n",
       "3                     steinsgate   \n",
       "4                     gintama039   \n",
       "\n",
       "                                               genre   type  \\\n",
       "0          [drama,  romance,  school,  supernatural]  Movie   \n",
       "1  [action,  adventure,  drama,  fantasy,  magic,...     TV   \n",
       "2  [action,  comedy,  historical,  parody,  samur...     TV   \n",
       "3                                [sci-fi,  thriller]     TV   \n",
       "4  [action,  comedy,  historical,  parody,  samur...     TV   \n",
       "\n",
       "                         anime_name anime_size popularity  \\\n",
       "0                    Kimi no Na wa        tiny   veryhigh   \n",
       "1  Fullmetal Alchemist: Brotherhood     medium   veryhigh   \n",
       "2                          Gintama      medium   veryhigh   \n",
       "3                       Steins Gate      small   veryhigh   \n",
       "4                     Gintama  039      medium   veryhigh   \n",
       "\n",
       "                                            combined  \n",
       "0   kiminonawa drama  romance  school  supernatur...  \n",
       "1   fullmetalalchemistbrotherhood action  adventu...  \n",
       "2   gintama action  comedy  historical  parody  s...  \n",
       "3     steinsgate sci-fi  thriller TV small veryhigh   \n",
       "4   gintama039 action  comedy  historical  parody...  "
      ]
     },
     "execution_count": 33,
     "metadata": {},
     "output_type": "execute_result"
    }
   ],
   "source": [
    "str_data.head()"
   ]
  },
  {
   "cell_type": "code",
   "execution_count": 34,
   "id": "1f199d29",
   "metadata": {},
   "outputs": [],
   "source": [
    "from sklearn.feature_extraction.text import CountVectorizer"
   ]
  },
  {
   "cell_type": "code",
   "execution_count": 35,
   "id": "bb5eb268",
   "metadata": {},
   "outputs": [],
   "source": [
    "# Using CountVectorizer to convert contents of 'combined' column into vectors\n",
    "cv = CountVectorizer()"
   ]
  },
  {
   "cell_type": "code",
   "execution_count": 36,
   "id": "7b956517",
   "metadata": {},
   "outputs": [],
   "source": [
    "matrix = cv.fit_transform(str_data['combined'])"
   ]
  },
  {
   "cell_type": "code",
   "execution_count": 37,
   "id": "cc70ebfc",
   "metadata": {},
   "outputs": [
    {
     "data": {
      "text/plain": [
       "<12017x12033 sparse matrix of type '<class 'numpy.int64'>'\n",
       "\twith 88435 stored elements in Compressed Sparse Row format>"
      ]
     },
     "execution_count": 37,
     "metadata": {},
     "output_type": "execute_result"
    }
   ],
   "source": [
    "matrix"
   ]
  },
  {
   "cell_type": "code",
   "execution_count": 38,
   "id": "fb701a5b",
   "metadata": {},
   "outputs": [],
   "source": [
    "from sklearn.metrics.pairwise import cosine_similarity"
   ]
  },
  {
   "cell_type": "code",
   "execution_count": 39,
   "id": "a4a6f8c4",
   "metadata": {},
   "outputs": [],
   "source": [
    "cosine_matrix = cosine_similarity(matrix)"
   ]
  },
  {
   "cell_type": "code",
   "execution_count": 40,
   "id": "7027fec6",
   "metadata": {},
   "outputs": [
    {
     "data": {
      "text/plain": [
       "(12017, 12017)"
      ]
     },
     "execution_count": 40,
     "metadata": {},
     "output_type": "execute_result"
    }
   ],
   "source": [
    "cosine_matrix.shape"
   ]
  },
  {
   "cell_type": "code",
   "execution_count": 42,
   "id": "892cded3",
   "metadata": {},
   "outputs": [],
   "source": [
    "# Creating new 'id' column for convenience "
   ]
  },
  {
   "cell_type": "code",
   "execution_count": 43,
   "id": "f046e425",
   "metadata": {},
   "outputs": [],
   "source": [
    "str_data['id'] = [i for i in range(0,str_data.shape[0])]"
   ]
  },
  {
   "cell_type": "code",
   "execution_count": 44,
   "id": "fe58b175",
   "metadata": {},
   "outputs": [],
   "source": [
    "# this function accepts a anime name as input as returns a list of ten most recommended animes \n",
    "def recommend_ten(title):\n",
    "    title = re.sub(' ','',\" \".join(re.findall('[a-zA-Z0-9]',title.lower())))\n",
    "    anime_id = str_data[str_data.name==title]['id'].values[0]\n",
    "    sorted_scores = sorted(list(enumerate(cosine_matrix[anime_id])), key=lambda x: x[1], reverse=True)\n",
    "    sorted_ten = sorted_scores[1:11]\n",
    "    top_ten = [str_data[anime[0]==str_data['id']]['anime_name'].values[0] for anime in sorted_ten]\n",
    "    return top_ten"
   ]
  },
  {
   "cell_type": "code",
   "execution_count": 45,
   "id": "ab614a08",
   "metadata": {},
   "outputs": [],
   "source": [
    "anime_name = 'Kimi no na wa'"
   ]
  },
  {
   "cell_type": "code",
   "execution_count": 46,
   "id": "d61766b6",
   "metadata": {},
   "outputs": [],
   "source": [
    "recommendations = recommend_ten(anime_name)"
   ]
  },
  {
   "cell_type": "code",
   "execution_count": 47,
   "id": "4a6530a2",
   "metadata": {},
   "outputs": [
    {
     "data": {
      "text/plain": [
       "['Hotarubi no Mori e',\n",
       " 'Aura: Maryuuin Kouga Saigo no Tatakai',\n",
       " 'Kara no Kyoukai 5: Mujun Rasen',\n",
       " 'Koe no Katachi',\n",
       " 'Sen to Chihiro no Kamikakushi',\n",
       " 'Kokoro ga Sakebitagatterunda ',\n",
       " 'Clannad: After Story - Mou Hitotsu no Sekai  Kyou-hen',\n",
       " 'Angel Beats : Another Epilogue',\n",
       " 'Harmonie',\n",
       " 'Air Movie']"
      ]
     },
     "execution_count": 47,
     "metadata": {},
     "output_type": "execute_result"
    }
   ],
   "source": [
    "recommendations"
   ]
  },
  {
   "cell_type": "code",
   "execution_count": null,
   "id": "d6239e62",
   "metadata": {},
   "outputs": [],
   "source": []
  }
 ],
 "metadata": {
  "kernelspec": {
   "display_name": "Python 3 (ipykernel)",
   "language": "python",
   "name": "python3"
  },
  "language_info": {
   "codemirror_mode": {
    "name": "ipython",
    "version": 3
   },
   "file_extension": ".py",
   "mimetype": "text/x-python",
   "name": "python",
   "nbconvert_exporter": "python",
   "pygments_lexer": "ipython3",
   "version": "3.9.13"
  }
 },
 "nbformat": 4,
 "nbformat_minor": 5
}
