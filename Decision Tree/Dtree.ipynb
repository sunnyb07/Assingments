{
 "cells": [
  {
   "cell_type": "markdown",
   "id": "0b980d85",
   "metadata": {},
   "source": [
    "# Importing the Libraries"
   ]
  },
  {
   "cell_type": "code",
   "execution_count": 528,
   "id": "240fb286",
   "metadata": {},
   "outputs": [],
   "source": [
    "import pandas as pd\n",
    "import numpy as np\n",
    "import seaborn as sns\n",
    "import matplotlib.pyplot as plt"
   ]
  },
  {
   "cell_type": "markdown",
   "id": "921c5c02",
   "metadata": {},
   "source": [
    "# Reading the Dataset"
   ]
  },
  {
   "cell_type": "code",
   "execution_count": 529,
   "id": "543fbafc",
   "metadata": {},
   "outputs": [],
   "source": [
    "df = pd.read_excel('heart_disease.xlsx', sheet_name=1)"
   ]
  },
  {
   "cell_type": "code",
   "execution_count": 530,
   "id": "797075cf",
   "metadata": {},
   "outputs": [
    {
     "data": {
      "text/html": [
       "<div>\n",
       "<style scoped>\n",
       "    .dataframe tbody tr th:only-of-type {\n",
       "        vertical-align: middle;\n",
       "    }\n",
       "\n",
       "    .dataframe tbody tr th {\n",
       "        vertical-align: top;\n",
       "    }\n",
       "\n",
       "    .dataframe thead th {\n",
       "        text-align: right;\n",
       "    }\n",
       "</style>\n",
       "<table border=\"1\" class=\"dataframe\">\n",
       "  <thead>\n",
       "    <tr style=\"text-align: right;\">\n",
       "      <th></th>\n",
       "      <th>age</th>\n",
       "      <th>sex</th>\n",
       "      <th>cp</th>\n",
       "      <th>trestbps</th>\n",
       "      <th>chol</th>\n",
       "      <th>fbs</th>\n",
       "      <th>restecg</th>\n",
       "      <th>thalch</th>\n",
       "      <th>exang</th>\n",
       "      <th>oldpeak</th>\n",
       "      <th>slope</th>\n",
       "      <th>thal</th>\n",
       "      <th>num</th>\n",
       "    </tr>\n",
       "  </thead>\n",
       "  <tbody>\n",
       "    <tr>\n",
       "      <th>0</th>\n",
       "      <td>63</td>\n",
       "      <td>Male</td>\n",
       "      <td>typical angina</td>\n",
       "      <td>145</td>\n",
       "      <td>233</td>\n",
       "      <td>True</td>\n",
       "      <td>lv hypertrophy</td>\n",
       "      <td>150</td>\n",
       "      <td>False</td>\n",
       "      <td>2.3</td>\n",
       "      <td>downsloping</td>\n",
       "      <td>fixed defect</td>\n",
       "      <td>0</td>\n",
       "    </tr>\n",
       "    <tr>\n",
       "      <th>1</th>\n",
       "      <td>41</td>\n",
       "      <td>Male</td>\n",
       "      <td>atypical angina</td>\n",
       "      <td>135</td>\n",
       "      <td>203</td>\n",
       "      <td>False</td>\n",
       "      <td>normal</td>\n",
       "      <td>132</td>\n",
       "      <td>False</td>\n",
       "      <td>0.0</td>\n",
       "      <td>flat</td>\n",
       "      <td>fixed defect</td>\n",
       "      <td>0</td>\n",
       "    </tr>\n",
       "    <tr>\n",
       "      <th>2</th>\n",
       "      <td>57</td>\n",
       "      <td>Male</td>\n",
       "      <td>asymptomatic</td>\n",
       "      <td>140</td>\n",
       "      <td>192</td>\n",
       "      <td>False</td>\n",
       "      <td>normal</td>\n",
       "      <td>148</td>\n",
       "      <td>False</td>\n",
       "      <td>0.4</td>\n",
       "      <td>flat</td>\n",
       "      <td>fixed defect</td>\n",
       "      <td>0</td>\n",
       "    </tr>\n",
       "    <tr>\n",
       "      <th>3</th>\n",
       "      <td>52</td>\n",
       "      <td>Male</td>\n",
       "      <td>typical angina</td>\n",
       "      <td>118</td>\n",
       "      <td>186</td>\n",
       "      <td>False</td>\n",
       "      <td>lv hypertrophy</td>\n",
       "      <td>190</td>\n",
       "      <td>False</td>\n",
       "      <td>0.0</td>\n",
       "      <td>flat</td>\n",
       "      <td>fixed defect</td>\n",
       "      <td>0</td>\n",
       "    </tr>\n",
       "    <tr>\n",
       "      <th>4</th>\n",
       "      <td>57</td>\n",
       "      <td>Male</td>\n",
       "      <td>asymptomatic</td>\n",
       "      <td>110</td>\n",
       "      <td>201</td>\n",
       "      <td>False</td>\n",
       "      <td>normal</td>\n",
       "      <td>126</td>\n",
       "      <td>True</td>\n",
       "      <td>1.5</td>\n",
       "      <td>flat</td>\n",
       "      <td>fixed defect</td>\n",
       "      <td>0</td>\n",
       "    </tr>\n",
       "    <tr>\n",
       "      <th>...</th>\n",
       "      <td>...</td>\n",
       "      <td>...</td>\n",
       "      <td>...</td>\n",
       "      <td>...</td>\n",
       "      <td>...</td>\n",
       "      <td>...</td>\n",
       "      <td>...</td>\n",
       "      <td>...</td>\n",
       "      <td>...</td>\n",
       "      <td>...</td>\n",
       "      <td>...</td>\n",
       "      <td>...</td>\n",
       "      <td>...</td>\n",
       "    </tr>\n",
       "    <tr>\n",
       "      <th>903</th>\n",
       "      <td>53</td>\n",
       "      <td>Male</td>\n",
       "      <td>asymptomatic</td>\n",
       "      <td>125</td>\n",
       "      <td>0</td>\n",
       "      <td>False</td>\n",
       "      <td>normal</td>\n",
       "      <td>120</td>\n",
       "      <td>False</td>\n",
       "      <td>1.5</td>\n",
       "      <td>upsloping</td>\n",
       "      <td>reversable defect</td>\n",
       "      <td>4</td>\n",
       "    </tr>\n",
       "    <tr>\n",
       "      <th>904</th>\n",
       "      <td>62</td>\n",
       "      <td>Male</td>\n",
       "      <td>asymptomatic</td>\n",
       "      <td>166</td>\n",
       "      <td>170</td>\n",
       "      <td>False</td>\n",
       "      <td>st-t abnormality</td>\n",
       "      <td>120</td>\n",
       "      <td>True</td>\n",
       "      <td>3.0</td>\n",
       "      <td>flat</td>\n",
       "      <td>reversable defect</td>\n",
       "      <td>4</td>\n",
       "    </tr>\n",
       "    <tr>\n",
       "      <th>905</th>\n",
       "      <td>56</td>\n",
       "      <td>Male</td>\n",
       "      <td>non-anginal</td>\n",
       "      <td>170</td>\n",
       "      <td>0</td>\n",
       "      <td>False</td>\n",
       "      <td>lv hypertrophy</td>\n",
       "      <td>123</td>\n",
       "      <td>True</td>\n",
       "      <td>2.5</td>\n",
       "      <td>downsloping</td>\n",
       "      <td>normal</td>\n",
       "      <td>4</td>\n",
       "    </tr>\n",
       "    <tr>\n",
       "      <th>906</th>\n",
       "      <td>56</td>\n",
       "      <td>Male</td>\n",
       "      <td>non-anginal</td>\n",
       "      <td>144</td>\n",
       "      <td>208</td>\n",
       "      <td>True</td>\n",
       "      <td>st-t abnormality</td>\n",
       "      <td>105</td>\n",
       "      <td>TURE</td>\n",
       "      <td>NaN</td>\n",
       "      <td>downsloping</td>\n",
       "      <td>fixed defect</td>\n",
       "      <td>4</td>\n",
       "    </tr>\n",
       "    <tr>\n",
       "      <th>907</th>\n",
       "      <td>57</td>\n",
       "      <td>Male</td>\n",
       "      <td>asymptomatic</td>\n",
       "      <td>142</td>\n",
       "      <td>277</td>\n",
       "      <td>True</td>\n",
       "      <td>st-t abnormality</td>\n",
       "      <td>182</td>\n",
       "      <td>FALSE</td>\n",
       "      <td>NaN</td>\n",
       "      <td>flat</td>\n",
       "      <td>reversable defect</td>\n",
       "      <td>4</td>\n",
       "    </tr>\n",
       "  </tbody>\n",
       "</table>\n",
       "<p>908 rows × 13 columns</p>\n",
       "</div>"
      ],
      "text/plain": [
       "     age   sex               cp  trestbps  chol    fbs           restecg  \\\n",
       "0     63  Male   typical angina       145   233   True    lv hypertrophy   \n",
       "1     41  Male  atypical angina       135   203  False            normal   \n",
       "2     57  Male     asymptomatic       140   192  False            normal   \n",
       "3     52  Male   typical angina       118   186  False    lv hypertrophy   \n",
       "4     57  Male     asymptomatic       110   201  False            normal   \n",
       "..   ...   ...              ...       ...   ...    ...               ...   \n",
       "903   53  Male     asymptomatic       125     0  False            normal   \n",
       "904   62  Male     asymptomatic       166   170  False  st-t abnormality   \n",
       "905   56  Male      non-anginal       170     0  False    lv hypertrophy   \n",
       "906   56  Male      non-anginal       144   208   True  st-t abnormality   \n",
       "907   57  Male     asymptomatic       142   277   True  st-t abnormality   \n",
       "\n",
       "     thalch  exang  oldpeak        slope               thal  num  \n",
       "0       150  False      2.3  downsloping       fixed defect    0  \n",
       "1       132  False      0.0         flat       fixed defect    0  \n",
       "2       148  False      0.4         flat       fixed defect    0  \n",
       "3       190  False      0.0         flat       fixed defect    0  \n",
       "4       126   True      1.5         flat       fixed defect    0  \n",
       "..      ...    ...      ...          ...                ...  ...  \n",
       "903     120  False      1.5    upsloping  reversable defect    4  \n",
       "904     120   True      3.0         flat  reversable defect    4  \n",
       "905     123   True      2.5  downsloping             normal    4  \n",
       "906     105   TURE      NaN  downsloping       fixed defect    4  \n",
       "907     182  FALSE      NaN         flat  reversable defect    4  \n",
       "\n",
       "[908 rows x 13 columns]"
      ]
     },
     "execution_count": 530,
     "metadata": {},
     "output_type": "execute_result"
    }
   ],
   "source": [
    "df"
   ]
  },
  {
   "cell_type": "code",
   "execution_count": 531,
   "id": "c04ec111",
   "metadata": {},
   "outputs": [
    {
     "data": {
      "text/plain": [
       "(908, 13)"
      ]
     },
     "execution_count": 531,
     "metadata": {},
     "output_type": "execute_result"
    }
   ],
   "source": [
    "df.shape"
   ]
  },
  {
   "cell_type": "code",
   "execution_count": 532,
   "id": "fd8a8cd5",
   "metadata": {},
   "outputs": [
    {
     "name": "stdout",
     "output_type": "stream",
     "text": [
      "<class 'pandas.core.frame.DataFrame'>\n",
      "RangeIndex: 908 entries, 0 to 907\n",
      "Data columns (total 13 columns):\n",
      " #   Column    Non-Null Count  Dtype  \n",
      "---  ------    --------------  -----  \n",
      " 0   age       908 non-null    int64  \n",
      " 1   sex       908 non-null    object \n",
      " 2   cp        908 non-null    object \n",
      " 3   trestbps  908 non-null    int64  \n",
      " 4   chol      908 non-null    int64  \n",
      " 5   fbs       908 non-null    bool   \n",
      " 6   restecg   908 non-null    object \n",
      " 7   thalch    908 non-null    int64  \n",
      " 8   exang     908 non-null    object \n",
      " 9   oldpeak   846 non-null    float64\n",
      " 10  slope     908 non-null    object \n",
      " 11  thal      908 non-null    object \n",
      " 12  num       908 non-null    int64  \n",
      "dtypes: bool(1), float64(1), int64(5), object(6)\n",
      "memory usage: 86.1+ KB\n"
     ]
    }
   ],
   "source": [
    "df.info()"
   ]
  },
  {
   "cell_type": "markdown",
   "id": "439153f2",
   "metadata": {},
   "source": [
    "# EDA"
   ]
  },
  {
   "cell_type": "code",
   "execution_count": 533,
   "id": "1f3ede84",
   "metadata": {},
   "outputs": [
    {
     "data": {
      "text/html": [
       "<div>\n",
       "<style scoped>\n",
       "    .dataframe tbody tr th:only-of-type {\n",
       "        vertical-align: middle;\n",
       "    }\n",
       "\n",
       "    .dataframe tbody tr th {\n",
       "        vertical-align: top;\n",
       "    }\n",
       "\n",
       "    .dataframe thead th {\n",
       "        text-align: right;\n",
       "    }\n",
       "</style>\n",
       "<table border=\"1\" class=\"dataframe\">\n",
       "  <thead>\n",
       "    <tr style=\"text-align: right;\">\n",
       "      <th></th>\n",
       "      <th>age</th>\n",
       "      <th>sex</th>\n",
       "      <th>cp</th>\n",
       "      <th>trestbps</th>\n",
       "      <th>chol</th>\n",
       "      <th>fbs</th>\n",
       "      <th>restecg</th>\n",
       "      <th>thalch</th>\n",
       "      <th>exang</th>\n",
       "      <th>oldpeak</th>\n",
       "      <th>slope</th>\n",
       "      <th>thal</th>\n",
       "      <th>num</th>\n",
       "    </tr>\n",
       "  </thead>\n",
       "  <tbody>\n",
       "    <tr>\n",
       "      <th>765</th>\n",
       "      <td>58</td>\n",
       "      <td>Male</td>\n",
       "      <td>non-anginal</td>\n",
       "      <td>150</td>\n",
       "      <td>219</td>\n",
       "      <td>False</td>\n",
       "      <td>st-t abnormality</td>\n",
       "      <td>118</td>\n",
       "      <td>True</td>\n",
       "      <td>0.0</td>\n",
       "      <td>downsloping</td>\n",
       "      <td>normal</td>\n",
       "      <td>2</td>\n",
       "    </tr>\n",
       "  </tbody>\n",
       "</table>\n",
       "</div>"
      ],
      "text/plain": [
       "     age   sex           cp  trestbps  chol    fbs           restecg  thalch  \\\n",
       "765   58  Male  non-anginal       150   219  False  st-t abnormality     118   \n",
       "\n",
       "    exang  oldpeak        slope    thal  num  \n",
       "765  True      0.0  downsloping  normal    2  "
      ]
     },
     "execution_count": 533,
     "metadata": {},
     "output_type": "execute_result"
    }
   ],
   "source": [
    "df[df.duplicated()]"
   ]
  },
  {
   "cell_type": "code",
   "execution_count": 534,
   "id": "781f8d8d",
   "metadata": {},
   "outputs": [
    {
     "data": {
      "text/plain": [
       "age          0\n",
       "sex          0\n",
       "cp           0\n",
       "trestbps     0\n",
       "chol         0\n",
       "fbs          0\n",
       "restecg      0\n",
       "thalch       0\n",
       "exang        0\n",
       "oldpeak     62\n",
       "slope        0\n",
       "thal         0\n",
       "num          0\n",
       "dtype: int64"
      ]
     },
     "execution_count": 534,
     "metadata": {},
     "output_type": "execute_result"
    }
   ],
   "source": [
    "df.isnull().sum()"
   ]
  },
  {
   "cell_type": "markdown",
   "id": "375a8768",
   "metadata": {},
   "source": [
    "Here 1 column is duplicate so we drop that column"
   ]
  },
  {
   "cell_type": "code",
   "execution_count": 535,
   "id": "bfcee431",
   "metadata": {},
   "outputs": [
    {
     "data": {
      "text/html": [
       "<div>\n",
       "<style scoped>\n",
       "    .dataframe tbody tr th:only-of-type {\n",
       "        vertical-align: middle;\n",
       "    }\n",
       "\n",
       "    .dataframe tbody tr th {\n",
       "        vertical-align: top;\n",
       "    }\n",
       "\n",
       "    .dataframe thead th {\n",
       "        text-align: right;\n",
       "    }\n",
       "</style>\n",
       "<table border=\"1\" class=\"dataframe\">\n",
       "  <thead>\n",
       "    <tr style=\"text-align: right;\">\n",
       "      <th></th>\n",
       "      <th>age</th>\n",
       "      <th>sex</th>\n",
       "      <th>cp</th>\n",
       "      <th>trestbps</th>\n",
       "      <th>chol</th>\n",
       "      <th>fbs</th>\n",
       "      <th>restecg</th>\n",
       "      <th>thalch</th>\n",
       "      <th>exang</th>\n",
       "      <th>oldpeak</th>\n",
       "      <th>slope</th>\n",
       "      <th>thal</th>\n",
       "      <th>num</th>\n",
       "    </tr>\n",
       "  </thead>\n",
       "  <tbody>\n",
       "    <tr>\n",
       "      <th>0</th>\n",
       "      <td>63</td>\n",
       "      <td>Male</td>\n",
       "      <td>typical angina</td>\n",
       "      <td>145</td>\n",
       "      <td>233</td>\n",
       "      <td>True</td>\n",
       "      <td>lv hypertrophy</td>\n",
       "      <td>150</td>\n",
       "      <td>False</td>\n",
       "      <td>2.3</td>\n",
       "      <td>downsloping</td>\n",
       "      <td>fixed defect</td>\n",
       "      <td>0</td>\n",
       "    </tr>\n",
       "    <tr>\n",
       "      <th>1</th>\n",
       "      <td>41</td>\n",
       "      <td>Male</td>\n",
       "      <td>atypical angina</td>\n",
       "      <td>135</td>\n",
       "      <td>203</td>\n",
       "      <td>False</td>\n",
       "      <td>normal</td>\n",
       "      <td>132</td>\n",
       "      <td>False</td>\n",
       "      <td>0.0</td>\n",
       "      <td>flat</td>\n",
       "      <td>fixed defect</td>\n",
       "      <td>0</td>\n",
       "    </tr>\n",
       "    <tr>\n",
       "      <th>2</th>\n",
       "      <td>57</td>\n",
       "      <td>Male</td>\n",
       "      <td>asymptomatic</td>\n",
       "      <td>140</td>\n",
       "      <td>192</td>\n",
       "      <td>False</td>\n",
       "      <td>normal</td>\n",
       "      <td>148</td>\n",
       "      <td>False</td>\n",
       "      <td>0.4</td>\n",
       "      <td>flat</td>\n",
       "      <td>fixed defect</td>\n",
       "      <td>0</td>\n",
       "    </tr>\n",
       "    <tr>\n",
       "      <th>3</th>\n",
       "      <td>52</td>\n",
       "      <td>Male</td>\n",
       "      <td>typical angina</td>\n",
       "      <td>118</td>\n",
       "      <td>186</td>\n",
       "      <td>False</td>\n",
       "      <td>lv hypertrophy</td>\n",
       "      <td>190</td>\n",
       "      <td>False</td>\n",
       "      <td>0.0</td>\n",
       "      <td>flat</td>\n",
       "      <td>fixed defect</td>\n",
       "      <td>0</td>\n",
       "    </tr>\n",
       "    <tr>\n",
       "      <th>4</th>\n",
       "      <td>57</td>\n",
       "      <td>Male</td>\n",
       "      <td>asymptomatic</td>\n",
       "      <td>110</td>\n",
       "      <td>201</td>\n",
       "      <td>False</td>\n",
       "      <td>normal</td>\n",
       "      <td>126</td>\n",
       "      <td>True</td>\n",
       "      <td>1.5</td>\n",
       "      <td>flat</td>\n",
       "      <td>fixed defect</td>\n",
       "      <td>0</td>\n",
       "    </tr>\n",
       "    <tr>\n",
       "      <th>...</th>\n",
       "      <td>...</td>\n",
       "      <td>...</td>\n",
       "      <td>...</td>\n",
       "      <td>...</td>\n",
       "      <td>...</td>\n",
       "      <td>...</td>\n",
       "      <td>...</td>\n",
       "      <td>...</td>\n",
       "      <td>...</td>\n",
       "      <td>...</td>\n",
       "      <td>...</td>\n",
       "      <td>...</td>\n",
       "      <td>...</td>\n",
       "    </tr>\n",
       "    <tr>\n",
       "      <th>903</th>\n",
       "      <td>53</td>\n",
       "      <td>Male</td>\n",
       "      <td>asymptomatic</td>\n",
       "      <td>125</td>\n",
       "      <td>0</td>\n",
       "      <td>False</td>\n",
       "      <td>normal</td>\n",
       "      <td>120</td>\n",
       "      <td>False</td>\n",
       "      <td>1.5</td>\n",
       "      <td>upsloping</td>\n",
       "      <td>reversable defect</td>\n",
       "      <td>4</td>\n",
       "    </tr>\n",
       "    <tr>\n",
       "      <th>904</th>\n",
       "      <td>62</td>\n",
       "      <td>Male</td>\n",
       "      <td>asymptomatic</td>\n",
       "      <td>166</td>\n",
       "      <td>170</td>\n",
       "      <td>False</td>\n",
       "      <td>st-t abnormality</td>\n",
       "      <td>120</td>\n",
       "      <td>True</td>\n",
       "      <td>3.0</td>\n",
       "      <td>flat</td>\n",
       "      <td>reversable defect</td>\n",
       "      <td>4</td>\n",
       "    </tr>\n",
       "    <tr>\n",
       "      <th>905</th>\n",
       "      <td>56</td>\n",
       "      <td>Male</td>\n",
       "      <td>non-anginal</td>\n",
       "      <td>170</td>\n",
       "      <td>0</td>\n",
       "      <td>False</td>\n",
       "      <td>lv hypertrophy</td>\n",
       "      <td>123</td>\n",
       "      <td>True</td>\n",
       "      <td>2.5</td>\n",
       "      <td>downsloping</td>\n",
       "      <td>normal</td>\n",
       "      <td>4</td>\n",
       "    </tr>\n",
       "    <tr>\n",
       "      <th>906</th>\n",
       "      <td>56</td>\n",
       "      <td>Male</td>\n",
       "      <td>non-anginal</td>\n",
       "      <td>144</td>\n",
       "      <td>208</td>\n",
       "      <td>True</td>\n",
       "      <td>st-t abnormality</td>\n",
       "      <td>105</td>\n",
       "      <td>TURE</td>\n",
       "      <td>NaN</td>\n",
       "      <td>downsloping</td>\n",
       "      <td>fixed defect</td>\n",
       "      <td>4</td>\n",
       "    </tr>\n",
       "    <tr>\n",
       "      <th>907</th>\n",
       "      <td>57</td>\n",
       "      <td>Male</td>\n",
       "      <td>asymptomatic</td>\n",
       "      <td>142</td>\n",
       "      <td>277</td>\n",
       "      <td>True</td>\n",
       "      <td>st-t abnormality</td>\n",
       "      <td>182</td>\n",
       "      <td>FALSE</td>\n",
       "      <td>NaN</td>\n",
       "      <td>flat</td>\n",
       "      <td>reversable defect</td>\n",
       "      <td>4</td>\n",
       "    </tr>\n",
       "  </tbody>\n",
       "</table>\n",
       "<p>907 rows × 13 columns</p>\n",
       "</div>"
      ],
      "text/plain": [
       "     age   sex               cp  trestbps  chol    fbs           restecg  \\\n",
       "0     63  Male   typical angina       145   233   True    lv hypertrophy   \n",
       "1     41  Male  atypical angina       135   203  False            normal   \n",
       "2     57  Male     asymptomatic       140   192  False            normal   \n",
       "3     52  Male   typical angina       118   186  False    lv hypertrophy   \n",
       "4     57  Male     asymptomatic       110   201  False            normal   \n",
       "..   ...   ...              ...       ...   ...    ...               ...   \n",
       "903   53  Male     asymptomatic       125     0  False            normal   \n",
       "904   62  Male     asymptomatic       166   170  False  st-t abnormality   \n",
       "905   56  Male      non-anginal       170     0  False    lv hypertrophy   \n",
       "906   56  Male      non-anginal       144   208   True  st-t abnormality   \n",
       "907   57  Male     asymptomatic       142   277   True  st-t abnormality   \n",
       "\n",
       "     thalch  exang  oldpeak        slope               thal  num  \n",
       "0       150  False      2.3  downsloping       fixed defect    0  \n",
       "1       132  False      0.0         flat       fixed defect    0  \n",
       "2       148  False      0.4         flat       fixed defect    0  \n",
       "3       190  False      0.0         flat       fixed defect    0  \n",
       "4       126   True      1.5         flat       fixed defect    0  \n",
       "..      ...    ...      ...          ...                ...  ...  \n",
       "903     120  False      1.5    upsloping  reversable defect    4  \n",
       "904     120   True      3.0         flat  reversable defect    4  \n",
       "905     123   True      2.5  downsloping             normal    4  \n",
       "906     105   TURE      NaN  downsloping       fixed defect    4  \n",
       "907     182  FALSE      NaN         flat  reversable defect    4  \n",
       "\n",
       "[907 rows x 13 columns]"
      ]
     },
     "execution_count": 535,
     "metadata": {},
     "output_type": "execute_result"
    }
   ],
   "source": [
    "df.drop_duplicates()"
   ]
  },
  {
   "cell_type": "code",
   "execution_count": 536,
   "id": "e4f075c3",
   "metadata": {},
   "outputs": [
    {
     "name": "stdout",
     "output_type": "stream",
     "text": [
      "<class 'pandas.core.frame.DataFrame'>\n",
      "RangeIndex: 908 entries, 0 to 907\n",
      "Data columns (total 13 columns):\n",
      " #   Column    Non-Null Count  Dtype  \n",
      "---  ------    --------------  -----  \n",
      " 0   age       908 non-null    int64  \n",
      " 1   sex       908 non-null    object \n",
      " 2   cp        908 non-null    object \n",
      " 3   trestbps  908 non-null    int64  \n",
      " 4   chol      908 non-null    int64  \n",
      " 5   fbs       908 non-null    bool   \n",
      " 6   restecg   908 non-null    object \n",
      " 7   thalch    908 non-null    int64  \n",
      " 8   exang     908 non-null    object \n",
      " 9   oldpeak   846 non-null    float64\n",
      " 10  slope     908 non-null    object \n",
      " 11  thal      908 non-null    object \n",
      " 12  num       908 non-null    int64  \n",
      "dtypes: bool(1), float64(1), int64(5), object(6)\n",
      "memory usage: 86.1+ KB\n"
     ]
    }
   ],
   "source": [
    "df.info()"
   ]
  },
  {
   "cell_type": "markdown",
   "id": "b9ae806c",
   "metadata": {},
   "source": [
    "## Detecting outliers for numerical columns"
   ]
  },
  {
   "cell_type": "code",
   "execution_count": 537,
   "id": "fa6662fa",
   "metadata": {},
   "outputs": [
    {
     "data": {
      "text/plain": [
       "<function matplotlib.pyplot.show(close=None, block=None)>"
      ]
     },
     "execution_count": 537,
     "metadata": {},
     "output_type": "execute_result"
    },
    {
     "data": {
      "image/png": "[encoded data removed]",
      "text/plain": [
       "<Figure size 640x480 with 1 Axes>"
      ]
     },
     "metadata": {},
     "output_type": "display_data"
    }
   ],
   "source": [
    "plt.hist(df['age'])\n",
    "plt.show"
   ]
  },
  {
   "cell_type": "code",
   "execution_count": 538,
   "id": "ea722c72",
   "metadata": {},
   "outputs": [
    {
     "data": {
      "text/plain": [
       "-0.13679653817221868"
      ]
     },
     "execution_count": 538,
     "metadata": {},
     "output_type": "execute_result"
    }
   ],
   "source": [
    "df['age'].skew()"
   ]
  },
  {
   "cell_type": "code",
   "execution_count": 539,
   "id": "c6ef1fc7",
   "metadata": {},
   "outputs": [],
   "source": [
    "# Here data is preety much normally distributed"
   ]
  },
  {
   "cell_type": "code",
   "execution_count": 540,
   "id": "7f0a54bb",
   "metadata": {},
   "outputs": [
    {
     "data": {
      "image/png": "[encoded data removed]",
      "text/plain": [
       "<Figure size 640x480 with 1 Axes>"
      ]
     },
     "metadata": {},
     "output_type": "display_data"
    }
   ],
   "source": [
    "box1 = plt.boxplot(df['age'])\n",
    "plt.show()"
   ]
  },
  {
   "cell_type": "code",
   "execution_count": 541,
   "id": "be91d89f",
   "metadata": {},
   "outputs": [
    {
     "data": {
      "text/plain": [
       "[array([29], dtype=int64)]"
      ]
     },
     "execution_count": 541,
     "metadata": {},
     "output_type": "execute_result"
    }
   ],
   "source": [
    "[item.get_ydata() for item in box1['fliers']]"
   ]
  },
  {
   "cell_type": "code",
   "execution_count": 542,
   "id": "c39eec4d",
   "metadata": {},
   "outputs": [
    {
     "data": {
      "text/html": [
       "<div>\n",
       "<style scoped>\n",
       "    .dataframe tbody tr th:only-of-type {\n",
       "        vertical-align: middle;\n",
       "    }\n",
       "\n",
       "    .dataframe tbody tr th {\n",
       "        vertical-align: top;\n",
       "    }\n",
       "\n",
       "    .dataframe thead th {\n",
       "        text-align: right;\n",
       "    }\n",
       "</style>\n",
       "<table border=\"1\" class=\"dataframe\">\n",
       "  <thead>\n",
       "    <tr style=\"text-align: right;\">\n",
       "      <th></th>\n",
       "      <th>age</th>\n",
       "      <th>sex</th>\n",
       "      <th>cp</th>\n",
       "      <th>trestbps</th>\n",
       "      <th>chol</th>\n",
       "      <th>fbs</th>\n",
       "      <th>restecg</th>\n",
       "      <th>thalch</th>\n",
       "      <th>exang</th>\n",
       "      <th>oldpeak</th>\n",
       "      <th>slope</th>\n",
       "      <th>thal</th>\n",
       "      <th>num</th>\n",
       "    </tr>\n",
       "  </thead>\n",
       "  <tbody>\n",
       "    <tr>\n",
       "      <th>134</th>\n",
       "      <td>29</td>\n",
       "      <td>Male</td>\n",
       "      <td>atypical angina</td>\n",
       "      <td>130</td>\n",
       "      <td>204</td>\n",
       "      <td>False</td>\n",
       "      <td>lv hypertrophy</td>\n",
       "      <td>202</td>\n",
       "      <td>False</td>\n",
       "      <td>0.0</td>\n",
       "      <td>upsloping</td>\n",
       "      <td>normal</td>\n",
       "      <td>0</td>\n",
       "    </tr>\n",
       "  </tbody>\n",
       "</table>\n",
       "</div>"
      ],
      "text/plain": [
       "     age   sex               cp  trestbps  chol    fbs         restecg  \\\n",
       "134   29  Male  atypical angina       130   204  False  lv hypertrophy   \n",
       "\n",
       "     thalch  exang  oldpeak      slope    thal  num  \n",
       "134     202  False      0.0  upsloping  normal    0  "
      ]
     },
     "execution_count": 542,
     "metadata": {},
     "output_type": "execute_result"
    }
   ],
   "source": [
    "df[df['age'] == 29]"
   ]
  },
  {
   "cell_type": "code",
   "execution_count": 543,
   "id": "9399b16a",
   "metadata": {},
   "outputs": [],
   "source": [
    "# Here age 29 is outlier while majority of age varies between 45 to 65"
   ]
  },
  {
   "cell_type": "code",
   "execution_count": 544,
   "id": "68f65c24",
   "metadata": {},
   "outputs": [],
   "source": [
    "# Since it has only one outlier we will remove it"
   ]
  },
  {
   "cell_type": "code",
   "execution_count": 545,
   "id": "2d551528",
   "metadata": {},
   "outputs": [
    {
     "data": {
      "image/png": "[encoded data removed]",
      "text/plain": [
       "<Figure size 640x480 with 1 Axes>"
      ]
     },
     "metadata": {},
     "output_type": "display_data"
    },
    {
     "data": {
      "text/plain": [
       "-0.13679653817221868"
      ]
     },
     "execution_count": 545,
     "metadata": {},
     "output_type": "execute_result"
    }
   ],
   "source": [
    "plt.hist(df['age'])\n",
    "plt.show()\n",
    "\n",
    "df['age'].skew()"
   ]
  },
  {
   "cell_type": "code",
   "execution_count": 546,
   "id": "fccb032b",
   "metadata": {},
   "outputs": [],
   "source": [
    "df.drop(134, inplace=True)"
   ]
  },
  {
   "cell_type": "code",
   "execution_count": 547,
   "id": "014db00e",
   "metadata": {},
   "outputs": [],
   "source": [
    "# For trestbps column"
   ]
  },
  {
   "cell_type": "code",
   "execution_count": 548,
   "id": "56509a19",
   "metadata": {},
   "outputs": [
    {
     "name": "stderr",
     "output_type": "stream",
     "text": [
      "C:\\Users\\Sunny\\anaconda3\\lib\\site-packages\\seaborn\\distributions.py:2619: FutureWarning: `distplot` is a deprecated function and will be removed in a future version. Please adapt your code to use either `displot` (a figure-level function with similar flexibility) or `histplot` (an axes-level function for histograms).\n",
      "  warnings.warn(msg, FutureWarning)\n"
     ]
    },
    {
     "data": {
      "image/png": "[encoded data removed]",
      "text/plain": [
       "<Figure size 640x480 with 1 Axes>"
      ]
     },
     "metadata": {},
     "output_type": "display_data"
    }
   ],
   "source": [
    "sns.distplot(df['trestbps'])\n",
    "plt.show()"
   ]
  },
  {
   "cell_type": "code",
   "execution_count": 549,
   "id": "98fc05c4",
   "metadata": {},
   "outputs": [
    {
     "data": {
      "text/plain": [
       "0.3529205038993966"
      ]
     },
     "execution_count": 549,
     "metadata": {},
     "output_type": "execute_result"
    }
   ],
   "source": [
    "df['trestbps'].skew()"
   ]
  },
  {
   "cell_type": "code",
   "execution_count": 550,
   "id": "b5b8a8dc",
   "metadata": {},
   "outputs": [
    {
     "data": {
      "image/png": "[encoded data removed]",
      "text/plain": [
       "<Figure size 640x480 with 1 Axes>"
      ]
     },
     "metadata": {},
     "output_type": "display_data"
    }
   ],
   "source": [
    "box2 = plt.boxplot(df['trestbps'])\n",
    "plt.show()"
   ]
  },
  {
   "cell_type": "code",
   "execution_count": 551,
   "id": "9ff0ec34",
   "metadata": {},
   "outputs": [
    {
     "data": {
      "text/plain": [
       "[array([ 80,   0, 190, 181, 188, 193, 196, 192, 185, 200, 184, 192, 186,\n",
       "        200, 200, 200, 188, 182, 196, 193, 186, 190], dtype=int64)]"
      ]
     },
     "execution_count": 551,
     "metadata": {},
     "output_type": "execute_result"
    }
   ],
   "source": [
    "[item.get_ydata() for item in box2['fliers']]"
   ]
  },
  {
   "cell_type": "markdown",
   "id": "2b24acb3",
   "metadata": {},
   "source": [
    "# Since it has more outliers we will use whinsorize for that"
   ]
  },
  {
   "cell_type": "code",
   "execution_count": 552,
   "id": "b81172e7",
   "metadata": {},
   "outputs": [],
   "source": [
    "from scipy.stats.mstats import winsorize"
   ]
  },
  {
   "cell_type": "code",
   "execution_count": 553,
   "id": "d8720cc8",
   "metadata": {},
   "outputs": [
    {
     "data": {
      "image/png": "[encoded data removed]",
      "text/plain": [
       "<Figure size 640x480 with 1 Axes>"
      ]
     },
     "metadata": {},
     "output_type": "display_data"
    }
   ],
   "source": [
    "WinsorizedArray = winsorize(df['trestbps'],(0.05,0.1))\n",
    "  \n",
    "plt.boxplot(WinsorizedArray)\n",
    "plt.show()"
   ]
  },
  {
   "cell_type": "code",
   "execution_count": 554,
   "id": "dc157dff",
   "metadata": {},
   "outputs": [
    {
     "data": {
      "text/plain": [
       "numpy.ma.core.MaskedArray"
      ]
     },
     "execution_count": 554,
     "metadata": {},
     "output_type": "execute_result"
    }
   ],
   "source": [
    "type(WinsorizedArray)"
   ]
  },
  {
   "cell_type": "code",
   "execution_count": 555,
   "id": "354e2be5",
   "metadata": {},
   "outputs": [],
   "source": [
    "df['trestbps'] = WinsorizedArray"
   ]
  },
  {
   "cell_type": "code",
   "execution_count": 556,
   "id": "6eb2bf2a",
   "metadata": {},
   "outputs": [
    {
     "data": {
      "text/html": [
       "<div>\n",
       "<style scoped>\n",
       "    .dataframe tbody tr th:only-of-type {\n",
       "        vertical-align: middle;\n",
       "    }\n",
       "\n",
       "    .dataframe tbody tr th {\n",
       "        vertical-align: top;\n",
       "    }\n",
       "\n",
       "    .dataframe thead th {\n",
       "        text-align: right;\n",
       "    }\n",
       "</style>\n",
       "<table border=\"1\" class=\"dataframe\">\n",
       "  <thead>\n",
       "    <tr style=\"text-align: right;\">\n",
       "      <th></th>\n",
       "      <th>age</th>\n",
       "      <th>sex</th>\n",
       "      <th>cp</th>\n",
       "      <th>trestbps</th>\n",
       "      <th>chol</th>\n",
       "      <th>fbs</th>\n",
       "      <th>restecg</th>\n",
       "      <th>thalch</th>\n",
       "      <th>exang</th>\n",
       "      <th>oldpeak</th>\n",
       "      <th>slope</th>\n",
       "      <th>thal</th>\n",
       "      <th>num</th>\n",
       "    </tr>\n",
       "  </thead>\n",
       "  <tbody>\n",
       "    <tr>\n",
       "      <th>0</th>\n",
       "      <td>63</td>\n",
       "      <td>Male</td>\n",
       "      <td>typical angina</td>\n",
       "      <td>145</td>\n",
       "      <td>233</td>\n",
       "      <td>True</td>\n",
       "      <td>lv hypertrophy</td>\n",
       "      <td>150</td>\n",
       "      <td>False</td>\n",
       "      <td>2.3</td>\n",
       "      <td>downsloping</td>\n",
       "      <td>fixed defect</td>\n",
       "      <td>0</td>\n",
       "    </tr>\n",
       "    <tr>\n",
       "      <th>1</th>\n",
       "      <td>41</td>\n",
       "      <td>Male</td>\n",
       "      <td>atypical angina</td>\n",
       "      <td>135</td>\n",
       "      <td>203</td>\n",
       "      <td>False</td>\n",
       "      <td>normal</td>\n",
       "      <td>132</td>\n",
       "      <td>False</td>\n",
       "      <td>0.0</td>\n",
       "      <td>flat</td>\n",
       "      <td>fixed defect</td>\n",
       "      <td>0</td>\n",
       "    </tr>\n",
       "    <tr>\n",
       "      <th>2</th>\n",
       "      <td>57</td>\n",
       "      <td>Male</td>\n",
       "      <td>asymptomatic</td>\n",
       "      <td>140</td>\n",
       "      <td>192</td>\n",
       "      <td>False</td>\n",
       "      <td>normal</td>\n",
       "      <td>148</td>\n",
       "      <td>False</td>\n",
       "      <td>0.4</td>\n",
       "      <td>flat</td>\n",
       "      <td>fixed defect</td>\n",
       "      <td>0</td>\n",
       "    </tr>\n",
       "    <tr>\n",
       "      <th>3</th>\n",
       "      <td>52</td>\n",
       "      <td>Male</td>\n",
       "      <td>typical angina</td>\n",
       "      <td>118</td>\n",
       "      <td>186</td>\n",
       "      <td>False</td>\n",
       "      <td>lv hypertrophy</td>\n",
       "      <td>190</td>\n",
       "      <td>False</td>\n",
       "      <td>0.0</td>\n",
       "      <td>flat</td>\n",
       "      <td>fixed defect</td>\n",
       "      <td>0</td>\n",
       "    </tr>\n",
       "    <tr>\n",
       "      <th>4</th>\n",
       "      <td>57</td>\n",
       "      <td>Male</td>\n",
       "      <td>asymptomatic</td>\n",
       "      <td>110</td>\n",
       "      <td>201</td>\n",
       "      <td>False</td>\n",
       "      <td>normal</td>\n",
       "      <td>126</td>\n",
       "      <td>True</td>\n",
       "      <td>1.5</td>\n",
       "      <td>flat</td>\n",
       "      <td>fixed defect</td>\n",
       "      <td>0</td>\n",
       "    </tr>\n",
       "    <tr>\n",
       "      <th>...</th>\n",
       "      <td>...</td>\n",
       "      <td>...</td>\n",
       "      <td>...</td>\n",
       "      <td>...</td>\n",
       "      <td>...</td>\n",
       "      <td>...</td>\n",
       "      <td>...</td>\n",
       "      <td>...</td>\n",
       "      <td>...</td>\n",
       "      <td>...</td>\n",
       "      <td>...</td>\n",
       "      <td>...</td>\n",
       "      <td>...</td>\n",
       "    </tr>\n",
       "    <tr>\n",
       "      <th>903</th>\n",
       "      <td>53</td>\n",
       "      <td>Male</td>\n",
       "      <td>asymptomatic</td>\n",
       "      <td>125</td>\n",
       "      <td>0</td>\n",
       "      <td>False</td>\n",
       "      <td>normal</td>\n",
       "      <td>120</td>\n",
       "      <td>False</td>\n",
       "      <td>1.5</td>\n",
       "      <td>upsloping</td>\n",
       "      <td>reversable defect</td>\n",
       "      <td>4</td>\n",
       "    </tr>\n",
       "    <tr>\n",
       "      <th>904</th>\n",
       "      <td>62</td>\n",
       "      <td>Male</td>\n",
       "      <td>asymptomatic</td>\n",
       "      <td>160</td>\n",
       "      <td>170</td>\n",
       "      <td>False</td>\n",
       "      <td>st-t abnormality</td>\n",
       "      <td>120</td>\n",
       "      <td>True</td>\n",
       "      <td>3.0</td>\n",
       "      <td>flat</td>\n",
       "      <td>reversable defect</td>\n",
       "      <td>4</td>\n",
       "    </tr>\n",
       "    <tr>\n",
       "      <th>905</th>\n",
       "      <td>56</td>\n",
       "      <td>Male</td>\n",
       "      <td>non-anginal</td>\n",
       "      <td>160</td>\n",
       "      <td>0</td>\n",
       "      <td>False</td>\n",
       "      <td>lv hypertrophy</td>\n",
       "      <td>123</td>\n",
       "      <td>True</td>\n",
       "      <td>2.5</td>\n",
       "      <td>downsloping</td>\n",
       "      <td>normal</td>\n",
       "      <td>4</td>\n",
       "    </tr>\n",
       "    <tr>\n",
       "      <th>906</th>\n",
       "      <td>56</td>\n",
       "      <td>Male</td>\n",
       "      <td>non-anginal</td>\n",
       "      <td>144</td>\n",
       "      <td>208</td>\n",
       "      <td>True</td>\n",
       "      <td>st-t abnormality</td>\n",
       "      <td>105</td>\n",
       "      <td>TURE</td>\n",
       "      <td>NaN</td>\n",
       "      <td>downsloping</td>\n",
       "      <td>fixed defect</td>\n",
       "      <td>4</td>\n",
       "    </tr>\n",
       "    <tr>\n",
       "      <th>907</th>\n",
       "      <td>57</td>\n",
       "      <td>Male</td>\n",
       "      <td>asymptomatic</td>\n",
       "      <td>142</td>\n",
       "      <td>277</td>\n",
       "      <td>True</td>\n",
       "      <td>st-t abnormality</td>\n",
       "      <td>182</td>\n",
       "      <td>FALSE</td>\n",
       "      <td>NaN</td>\n",
       "      <td>flat</td>\n",
       "      <td>reversable defect</td>\n",
       "      <td>4</td>\n",
       "    </tr>\n",
       "  </tbody>\n",
       "</table>\n",
       "<p>907 rows × 13 columns</p>\n",
       "</div>"
      ],
      "text/plain": [
       "     age   sex               cp  trestbps  chol    fbs           restecg  \\\n",
       "0     63  Male   typical angina       145   233   True    lv hypertrophy   \n",
       "1     41  Male  atypical angina       135   203  False            normal   \n",
       "2     57  Male     asymptomatic       140   192  False            normal   \n",
       "3     52  Male   typical angina       118   186  False    lv hypertrophy   \n",
       "4     57  Male     asymptomatic       110   201  False            normal   \n",
       "..   ...   ...              ...       ...   ...    ...               ...   \n",
       "903   53  Male     asymptomatic       125     0  False            normal   \n",
       "904   62  Male     asymptomatic       160   170  False  st-t abnormality   \n",
       "905   56  Male      non-anginal       160     0  False    lv hypertrophy   \n",
       "906   56  Male      non-anginal       144   208   True  st-t abnormality   \n",
       "907   57  Male     asymptomatic       142   277   True  st-t abnormality   \n",
       "\n",
       "     thalch  exang  oldpeak        slope               thal  num  \n",
       "0       150  False      2.3  downsloping       fixed defect    0  \n",
       "1       132  False      0.0         flat       fixed defect    0  \n",
       "2       148  False      0.4         flat       fixed defect    0  \n",
       "3       190  False      0.0         flat       fixed defect    0  \n",
       "4       126   True      1.5         flat       fixed defect    0  \n",
       "..      ...    ...      ...          ...                ...  ...  \n",
       "903     120  False      1.5    upsloping  reversable defect    4  \n",
       "904     120   True      3.0         flat  reversable defect    4  \n",
       "905     123   True      2.5  downsloping             normal    4  \n",
       "906     105   TURE      NaN  downsloping       fixed defect    4  \n",
       "907     182  FALSE      NaN         flat  reversable defect    4  \n",
       "\n",
       "[907 rows x 13 columns]"
      ]
     },
     "execution_count": 556,
     "metadata": {},
     "output_type": "execute_result"
    }
   ],
   "source": [
    "df"
   ]
  },
  {
   "cell_type": "code",
   "execution_count": 557,
   "id": "48b07732",
   "metadata": {},
   "outputs": [
    {
     "data": {
      "image/png": "[encoded data removed]",
      "text/plain": [
       "<Figure size 640x480 with 1 Axes>"
      ]
     },
     "metadata": {},
     "output_type": "display_data"
    },
    {
     "data": {
      "text/plain": [
       "0.2018906299470651"
      ]
     },
     "execution_count": 557,
     "metadata": {},
     "output_type": "execute_result"
    }
   ],
   "source": [
    "plt.hist(df['trestbps'])\n",
    "plt.show()\n",
    "\n",
    "df['trestbps'].skew()"
   ]
  },
  {
   "cell_type": "code",
   "execution_count": 558,
   "id": "ac986368",
   "metadata": {},
   "outputs": [
    {
     "data": {
      "image/png": "[encoded data removed]",
      "text/plain": [
       "<Figure size 640x480 with 1 Axes>"
      ]
     },
     "metadata": {},
     "output_type": "display_data"
    }
   ],
   "source": [
    "plt.hist(df['chol'])\n",
    "plt.show()"
   ]
  },
  {
   "cell_type": "code",
   "execution_count": 559,
   "id": "c84e53b3",
   "metadata": {},
   "outputs": [
    {
     "data": {
      "image/png": "[encoded data removed]",
      "text/plain": [
       "<Figure size 640x480 with 1 Axes>"
      ]
     },
     "metadata": {},
     "output_type": "display_data"
    }
   ],
   "source": [
    "box3 = plt.boxplot(df['chol'])\n",
    "plt.show()"
   ]
  },
  {
   "cell_type": "code",
   "execution_count": 560,
   "id": "70d33ef5",
   "metadata": {},
   "outputs": [
    {
     "data": {
      "text/plain": [
       "[array([  0,   0,   0,   0,   0,   0,   0,   0,   0,   0,   0,   0,   0,\n",
       "          0,   0,   0,   0,   0,   0,   0,   0,   0,   0,   0,   0,   0,\n",
       "          0,   0,   0,   0,   0,   0,   0,   0,   0,   0,   0,   0,   0,\n",
       "          0,   0,   0,   0,   0,   0,   0,   0,   0,   0,   0,   0,   0,\n",
       "          0,   0,   0,   0,   0,   0,   0,   0,   0,   0,   0,   0,   0,\n",
       "          0,   0,   0,   0,   0,   0,   0,   0,   0,   0,   0,   0,   0,\n",
       "          0,   0,   0,   0,   0,   0,   0,   0,   0,   0,   0,   0,   0,\n",
       "          0,   0,   0,   0,   0,   0,   0,   0,   0,   0,   0,   0,   0,\n",
       "          0,   0,   0,   0,   0,   0,   0,   0,   0,   0,   0,   0,   0,\n",
       "          0,   0,   0,   0,   0,   0,   0,   0,   0,   0,   0,   0,   0,\n",
       "          0,   0,   0,   0,   0,   0,   0,   0,   0,   0,   0,   0,   0,\n",
       "          0,   0,   0,   0,   0,   0,   0,   0,   0,   0,   0,   0,   0,\n",
       "          0,   0,   0,   0,   0,   0,   0,   0,   0,   0,   0,   0,   0,\n",
       "          0,   0,   0, 417, 439, 564, 458, 481, 459, 432, 468, 412, 421,\n",
       "        466, 603, 518, 529, 491], dtype=int64)]"
      ]
     },
     "execution_count": 560,
     "metadata": {},
     "output_type": "execute_result"
    }
   ],
   "source": [
    "[item.get_ydata() for item in box3['fliers']]"
   ]
  },
  {
   "cell_type": "code",
   "execution_count": 561,
   "id": "9c2b8f1f",
   "metadata": {},
   "outputs": [],
   "source": [
    "# Since too many zero's are there we will replace it will mean values"
   ]
  },
  {
   "cell_type": "code",
   "execution_count": 562,
   "id": "d72cbb58",
   "metadata": {},
   "outputs": [],
   "source": [
    "# for that we will calculate mean for non-zero rows"
   ]
  },
  {
   "cell_type": "code",
   "execution_count": 563,
   "id": "02916610",
   "metadata": {},
   "outputs": [],
   "source": [
    "mean_value = df.loc[df['chol'] != 0, 'chol'].mean()"
   ]
  },
  {
   "cell_type": "code",
   "execution_count": 564,
   "id": "11a5e00f",
   "metadata": {},
   "outputs": [],
   "source": [
    "df['chol'] = df['chol'].replace(0, mean_value)"
   ]
  },
  {
   "cell_type": "code",
   "execution_count": 565,
   "id": "2842850a",
   "metadata": {},
   "outputs": [
    {
     "data": {
      "text/html": [
       "<div>\n",
       "<style scoped>\n",
       "    .dataframe tbody tr th:only-of-type {\n",
       "        vertical-align: middle;\n",
       "    }\n",
       "\n",
       "    .dataframe tbody tr th {\n",
       "        vertical-align: top;\n",
       "    }\n",
       "\n",
       "    .dataframe thead th {\n",
       "        text-align: right;\n",
       "    }\n",
       "</style>\n",
       "<table border=\"1\" class=\"dataframe\">\n",
       "  <thead>\n",
       "    <tr style=\"text-align: right;\">\n",
       "      <th></th>\n",
       "      <th>age</th>\n",
       "      <th>sex</th>\n",
       "      <th>cp</th>\n",
       "      <th>trestbps</th>\n",
       "      <th>chol</th>\n",
       "      <th>fbs</th>\n",
       "      <th>restecg</th>\n",
       "      <th>thalch</th>\n",
       "      <th>exang</th>\n",
       "      <th>oldpeak</th>\n",
       "      <th>slope</th>\n",
       "      <th>thal</th>\n",
       "      <th>num</th>\n",
       "    </tr>\n",
       "  </thead>\n",
       "  <tbody>\n",
       "    <tr>\n",
       "      <th>0</th>\n",
       "      <td>63</td>\n",
       "      <td>Male</td>\n",
       "      <td>typical angina</td>\n",
       "      <td>145</td>\n",
       "      <td>233.000000</td>\n",
       "      <td>True</td>\n",
       "      <td>lv hypertrophy</td>\n",
       "      <td>150</td>\n",
       "      <td>False</td>\n",
       "      <td>2.3</td>\n",
       "      <td>downsloping</td>\n",
       "      <td>fixed defect</td>\n",
       "      <td>0</td>\n",
       "    </tr>\n",
       "    <tr>\n",
       "      <th>1</th>\n",
       "      <td>41</td>\n",
       "      <td>Male</td>\n",
       "      <td>atypical angina</td>\n",
       "      <td>135</td>\n",
       "      <td>203.000000</td>\n",
       "      <td>False</td>\n",
       "      <td>normal</td>\n",
       "      <td>132</td>\n",
       "      <td>False</td>\n",
       "      <td>0.0</td>\n",
       "      <td>flat</td>\n",
       "      <td>fixed defect</td>\n",
       "      <td>0</td>\n",
       "    </tr>\n",
       "    <tr>\n",
       "      <th>2</th>\n",
       "      <td>57</td>\n",
       "      <td>Male</td>\n",
       "      <td>asymptomatic</td>\n",
       "      <td>140</td>\n",
       "      <td>192.000000</td>\n",
       "      <td>False</td>\n",
       "      <td>normal</td>\n",
       "      <td>148</td>\n",
       "      <td>False</td>\n",
       "      <td>0.4</td>\n",
       "      <td>flat</td>\n",
       "      <td>fixed defect</td>\n",
       "      <td>0</td>\n",
       "    </tr>\n",
       "    <tr>\n",
       "      <th>3</th>\n",
       "      <td>52</td>\n",
       "      <td>Male</td>\n",
       "      <td>typical angina</td>\n",
       "      <td>118</td>\n",
       "      <td>186.000000</td>\n",
       "      <td>False</td>\n",
       "      <td>lv hypertrophy</td>\n",
       "      <td>190</td>\n",
       "      <td>False</td>\n",
       "      <td>0.0</td>\n",
       "      <td>flat</td>\n",
       "      <td>fixed defect</td>\n",
       "      <td>0</td>\n",
       "    </tr>\n",
       "    <tr>\n",
       "      <th>4</th>\n",
       "      <td>57</td>\n",
       "      <td>Male</td>\n",
       "      <td>asymptomatic</td>\n",
       "      <td>110</td>\n",
       "      <td>201.000000</td>\n",
       "      <td>False</td>\n",
       "      <td>normal</td>\n",
       "      <td>126</td>\n",
       "      <td>True</td>\n",
       "      <td>1.5</td>\n",
       "      <td>flat</td>\n",
       "      <td>fixed defect</td>\n",
       "      <td>0</td>\n",
       "    </tr>\n",
       "    <tr>\n",
       "      <th>...</th>\n",
       "      <td>...</td>\n",
       "      <td>...</td>\n",
       "      <td>...</td>\n",
       "      <td>...</td>\n",
       "      <td>...</td>\n",
       "      <td>...</td>\n",
       "      <td>...</td>\n",
       "      <td>...</td>\n",
       "      <td>...</td>\n",
       "      <td>...</td>\n",
       "      <td>...</td>\n",
       "      <td>...</td>\n",
       "      <td>...</td>\n",
       "    </tr>\n",
       "    <tr>\n",
       "      <th>903</th>\n",
       "      <td>53</td>\n",
       "      <td>Male</td>\n",
       "      <td>asymptomatic</td>\n",
       "      <td>125</td>\n",
       "      <td>248.631293</td>\n",
       "      <td>False</td>\n",
       "      <td>normal</td>\n",
       "      <td>120</td>\n",
       "      <td>False</td>\n",
       "      <td>1.5</td>\n",
       "      <td>upsloping</td>\n",
       "      <td>reversable defect</td>\n",
       "      <td>4</td>\n",
       "    </tr>\n",
       "    <tr>\n",
       "      <th>904</th>\n",
       "      <td>62</td>\n",
       "      <td>Male</td>\n",
       "      <td>asymptomatic</td>\n",
       "      <td>160</td>\n",
       "      <td>170.000000</td>\n",
       "      <td>False</td>\n",
       "      <td>st-t abnormality</td>\n",
       "      <td>120</td>\n",
       "      <td>True</td>\n",
       "      <td>3.0</td>\n",
       "      <td>flat</td>\n",
       "      <td>reversable defect</td>\n",
       "      <td>4</td>\n",
       "    </tr>\n",
       "    <tr>\n",
       "      <th>905</th>\n",
       "      <td>56</td>\n",
       "      <td>Male</td>\n",
       "      <td>non-anginal</td>\n",
       "      <td>160</td>\n",
       "      <td>248.631293</td>\n",
       "      <td>False</td>\n",
       "      <td>lv hypertrophy</td>\n",
       "      <td>123</td>\n",
       "      <td>True</td>\n",
       "      <td>2.5</td>\n",
       "      <td>downsloping</td>\n",
       "      <td>normal</td>\n",
       "      <td>4</td>\n",
       "    </tr>\n",
       "    <tr>\n",
       "      <th>906</th>\n",
       "      <td>56</td>\n",
       "      <td>Male</td>\n",
       "      <td>non-anginal</td>\n",
       "      <td>144</td>\n",
       "      <td>208.000000</td>\n",
       "      <td>True</td>\n",
       "      <td>st-t abnormality</td>\n",
       "      <td>105</td>\n",
       "      <td>TURE</td>\n",
       "      <td>NaN</td>\n",
       "      <td>downsloping</td>\n",
       "      <td>fixed defect</td>\n",
       "      <td>4</td>\n",
       "    </tr>\n",
       "    <tr>\n",
       "      <th>907</th>\n",
       "      <td>57</td>\n",
       "      <td>Male</td>\n",
       "      <td>asymptomatic</td>\n",
       "      <td>142</td>\n",
       "      <td>277.000000</td>\n",
       "      <td>True</td>\n",
       "      <td>st-t abnormality</td>\n",
       "      <td>182</td>\n",
       "      <td>FALSE</td>\n",
       "      <td>NaN</td>\n",
       "      <td>flat</td>\n",
       "      <td>reversable defect</td>\n",
       "      <td>4</td>\n",
       "    </tr>\n",
       "  </tbody>\n",
       "</table>\n",
       "<p>907 rows × 13 columns</p>\n",
       "</div>"
      ],
      "text/plain": [
       "     age   sex               cp  trestbps        chol    fbs  \\\n",
       "0     63  Male   typical angina       145  233.000000   True   \n",
       "1     41  Male  atypical angina       135  203.000000  False   \n",
       "2     57  Male     asymptomatic       140  192.000000  False   \n",
       "3     52  Male   typical angina       118  186.000000  False   \n",
       "4     57  Male     asymptomatic       110  201.000000  False   \n",
       "..   ...   ...              ...       ...         ...    ...   \n",
       "903   53  Male     asymptomatic       125  248.631293  False   \n",
       "904   62  Male     asymptomatic       160  170.000000  False   \n",
       "905   56  Male      non-anginal       160  248.631293  False   \n",
       "906   56  Male      non-anginal       144  208.000000   True   \n",
       "907   57  Male     asymptomatic       142  277.000000   True   \n",
       "\n",
       "              restecg  thalch  exang  oldpeak        slope               thal  \\\n",
       "0      lv hypertrophy     150  False      2.3  downsloping       fixed defect   \n",
       "1              normal     132  False      0.0         flat       fixed defect   \n",
       "2              normal     148  False      0.4         flat       fixed defect   \n",
       "3      lv hypertrophy     190  False      0.0         flat       fixed defect   \n",
       "4              normal     126   True      1.5         flat       fixed defect   \n",
       "..                ...     ...    ...      ...          ...                ...   \n",
       "903            normal     120  False      1.5    upsloping  reversable defect   \n",
       "904  st-t abnormality     120   True      3.0         flat  reversable defect   \n",
       "905    lv hypertrophy     123   True      2.5  downsloping             normal   \n",
       "906  st-t abnormality     105   TURE      NaN  downsloping       fixed defect   \n",
       "907  st-t abnormality     182  FALSE      NaN         flat  reversable defect   \n",
       "\n",
       "     num  \n",
       "0      0  \n",
       "1      0  \n",
       "2      0  \n",
       "3      0  \n",
       "4      0  \n",
       "..   ...  \n",
       "903    4  \n",
       "904    4  \n",
       "905    4  \n",
       "906    4  \n",
       "907    4  \n",
       "\n",
       "[907 rows x 13 columns]"
      ]
     },
     "execution_count": 565,
     "metadata": {},
     "output_type": "execute_result"
    }
   ],
   "source": [
    "df"
   ]
  },
  {
   "cell_type": "code",
   "execution_count": 566,
   "id": "8b9ea3a1",
   "metadata": {},
   "outputs": [
    {
     "data": {
      "image/png": "[encoded data removed]",
      "text/plain": [
       "<Figure size 640x480 with 1 Axes>"
      ]
     },
     "metadata": {},
     "output_type": "display_data"
    }
   ],
   "source": [
    "plt.hist(df['chol'])\n",
    "plt.show()"
   ]
  },
  {
   "cell_type": "code",
   "execution_count": 567,
   "id": "b8c73c80",
   "metadata": {},
   "outputs": [
    {
     "data": {
      "image/png": "[encoded data removed]",
      "text/plain": [
       "<Figure size 640x480 with 1 Axes>"
      ]
     },
     "metadata": {},
     "output_type": "display_data"
    }
   ],
   "source": [
    "box3 = plt.boxplot(df['chol'])\n",
    "plt.show()"
   ]
  },
  {
   "cell_type": "code",
   "execution_count": 568,
   "id": "aff3ec3b",
   "metadata": {},
   "outputs": [
    {
     "data": {
      "image/png": "[encoded data removed]",
      "text/plain": [
       "<Figure size 640x480 with 1 Axes>"
      ]
     },
     "metadata": {},
     "output_type": "display_data"
    }
   ],
   "source": [
    "WinsorizedArray = winsorize(df['chol'],(0.05,0.1))\n",
    "  \n",
    "plt.boxplot(WinsorizedArray)\n",
    "plt.show()"
   ]
  },
  {
   "cell_type": "code",
   "execution_count": 569,
   "id": "d6448562",
   "metadata": {},
   "outputs": [],
   "source": [
    "df['chol'] = WinsorizedArray"
   ]
  },
  {
   "cell_type": "code",
   "execution_count": 570,
   "id": "fe7c8f97",
   "metadata": {},
   "outputs": [
    {
     "data": {
      "image/png": "[encoded data removed]",
      "text/plain": [
       "<Figure size 640x480 with 1 Axes>"
      ]
     },
     "metadata": {},
     "output_type": "display_data"
    },
    {
     "data": {
      "text/plain": [
       "-0.023595619456631144"
      ]
     },
     "execution_count": 570,
     "metadata": {},
     "output_type": "execute_result"
    }
   ],
   "source": [
    "plt.hist(df['chol'])\n",
    "plt.show()\n",
    "\n",
    "df['chol'].skew()"
   ]
  },
  {
   "cell_type": "code",
   "execution_count": 571,
   "id": "9ef41c9f",
   "metadata": {},
   "outputs": [
    {
     "data": {
      "text/plain": [
       "62"
      ]
     },
     "execution_count": 571,
     "metadata": {},
     "output_type": "execute_result"
    }
   ],
   "source": [
    "df['oldpeak'].isnull().sum()"
   ]
  },
  {
   "cell_type": "markdown",
   "id": "3289fe4b",
   "metadata": {},
   "source": [
    "Here we remove the 62 null values for that we will replace that with mean value"
   ]
  },
  {
   "cell_type": "code",
   "execution_count": 572,
   "id": "0b444723",
   "metadata": {},
   "outputs": [],
   "source": [
    "df['oldpeak'].fillna(df['oldpeak'].mean(), inplace=True)"
   ]
  },
  {
   "cell_type": "code",
   "execution_count": 573,
   "id": "66fa65b2",
   "metadata": {},
   "outputs": [
    {
     "data": {
      "text/plain": [
       "0      2.300000\n",
       "1      0.000000\n",
       "2      0.400000\n",
       "3      0.000000\n",
       "4      1.500000\n",
       "         ...   \n",
       "903    1.500000\n",
       "904    3.000000\n",
       "905    2.500000\n",
       "906    0.892308\n",
       "907    0.892308\n",
       "Name: oldpeak, Length: 907, dtype: float64"
      ]
     },
     "execution_count": 573,
     "metadata": {},
     "output_type": "execute_result"
    }
   ],
   "source": [
    "df['oldpeak']"
   ]
  },
  {
   "cell_type": "code",
   "execution_count": 574,
   "id": "771ab333",
   "metadata": {},
   "outputs": [
    {
     "data": {
      "image/png": "[encoded data removed]",
      "text/plain": [
       "<Figure size 640x480 with 1 Axes>"
      ]
     },
     "metadata": {},
     "output_type": "display_data"
    }
   ],
   "source": [
    "plt.hist(df['oldpeak'])\n",
    "plt.show()"
   ]
  },
  {
   "cell_type": "code",
   "execution_count": 575,
   "id": "b7a5bf48",
   "metadata": {},
   "outputs": [
    {
     "data": {
      "image/png": "[encoded data removed]",
      "text/plain": [
       "<Figure size 640x480 with 1 Axes>"
      ]
     },
     "metadata": {},
     "output_type": "display_data"
    }
   ],
   "source": [
    "box5 = plt.boxplot(df['oldpeak'])\n",
    "plt.show()"
   ]
  },
  {
   "cell_type": "code",
   "execution_count": 576,
   "id": "7100358f",
   "metadata": {},
   "outputs": [
    {
     "data": {
      "text/plain": [
       "[array([-2.6,  4.2,  4. ,  5. ,  4. ,  4. ,  6.2,  5.6,  4. ,  4.2,  4. ,\n",
       "         4.4,  4. ,  3.8,  4. ,  4. ])]"
      ]
     },
     "execution_count": 576,
     "metadata": {},
     "output_type": "execute_result"
    }
   ],
   "source": [
    "[item.get_ydata() for item in box5['fliers']]"
   ]
  },
  {
   "cell_type": "code",
   "execution_count": 577,
   "id": "534615ef",
   "metadata": {},
   "outputs": [
    {
     "data": {
      "image/png": "[encoded data removed]",
      "text/plain": [
       "<Figure size 640x480 with 1 Axes>"
      ]
     },
     "metadata": {},
     "output_type": "display_data"
    }
   ],
   "source": [
    "WinsorizedArray = winsorize(df['oldpeak'],(0.01,0.1))\n",
    "  \n",
    "plt.boxplot(WinsorizedArray)\n",
    "plt.show()"
   ]
  },
  {
   "cell_type": "code",
   "execution_count": 578,
   "id": "987a8b20",
   "metadata": {},
   "outputs": [],
   "source": [
    "df['oldpeak'] = WinsorizedArray"
   ]
  },
  {
   "cell_type": "code",
   "execution_count": 579,
   "id": "86ce9594",
   "metadata": {},
   "outputs": [
    {
     "data": {
      "image/png": "[encoded data removed]",
      "text/plain": [
       "<Figure size 640x480 with 1 Axes>"
      ]
     },
     "metadata": {},
     "output_type": "display_data"
    },
    {
     "data": {
      "text/plain": [
       "0.512739193763429"
      ]
     },
     "execution_count": 579,
     "metadata": {},
     "output_type": "execute_result"
    }
   ],
   "source": [
    "plt.hist((df['oldpeak']))\n",
    "plt.show()\n",
    "\n",
    "(df['oldpeak']).skew()"
   ]
  },
  {
   "cell_type": "markdown",
   "id": "3e4409dc",
   "metadata": {},
   "source": [
    "# Data Pre processing"
   ]
  },
  {
   "cell_type": "markdown",
   "id": "5738a3c8",
   "metadata": {},
   "source": [
    "#### Doing one hot encoding on categorical columns"
   ]
  },
  {
   "cell_type": "code",
   "execution_count": 580,
   "id": "dad0575e",
   "metadata": {},
   "outputs": [],
   "source": [
    "# For exang column"
   ]
  },
  {
   "cell_type": "code",
   "execution_count": 581,
   "id": "2cfe4f17",
   "metadata": {},
   "outputs": [
    {
     "data": {
      "text/plain": [
       "array([False, True, 'FALSE', 'TURE'], dtype=object)"
      ]
     },
     "execution_count": 581,
     "metadata": {},
     "output_type": "execute_result"
    }
   ],
   "source": [
    "df['exang'].unique()"
   ]
  },
  {
   "cell_type": "code",
   "execution_count": 582,
   "id": "c07b9c7b",
   "metadata": {},
   "outputs": [],
   "source": [
    "boolean_mapping = {'TRUE': True, 'FALSE': False}"
   ]
  },
  {
   "cell_type": "code",
   "execution_count": 583,
   "id": "2a30bbcc",
   "metadata": {},
   "outputs": [],
   "source": [
    "df['exang'] = df['exang'].map(boolean_mapping)"
   ]
  },
  {
   "cell_type": "code",
   "execution_count": 584,
   "id": "50c154c2",
   "metadata": {},
   "outputs": [],
   "source": [
    "df['exang'] = df['exang'].astype(bool)"
   ]
  },
  {
   "cell_type": "code",
   "execution_count": 585,
   "id": "6aecb6a9",
   "metadata": {},
   "outputs": [
    {
     "data": {
      "text/html": [
       "<div>\n",
       "<style scoped>\n",
       "    .dataframe tbody tr th:only-of-type {\n",
       "        vertical-align: middle;\n",
       "    }\n",
       "\n",
       "    .dataframe tbody tr th {\n",
       "        vertical-align: top;\n",
       "    }\n",
       "\n",
       "    .dataframe thead th {\n",
       "        text-align: right;\n",
       "    }\n",
       "</style>\n",
       "<table border=\"1\" class=\"dataframe\">\n",
       "  <thead>\n",
       "    <tr style=\"text-align: right;\">\n",
       "      <th></th>\n",
       "      <th>age</th>\n",
       "      <th>sex</th>\n",
       "      <th>cp</th>\n",
       "      <th>trestbps</th>\n",
       "      <th>chol</th>\n",
       "      <th>fbs</th>\n",
       "      <th>restecg</th>\n",
       "      <th>thalch</th>\n",
       "      <th>exang</th>\n",
       "      <th>oldpeak</th>\n",
       "      <th>slope</th>\n",
       "      <th>thal</th>\n",
       "      <th>num</th>\n",
       "    </tr>\n",
       "  </thead>\n",
       "  <tbody>\n",
       "    <tr>\n",
       "      <th>0</th>\n",
       "      <td>63</td>\n",
       "      <td>Male</td>\n",
       "      <td>typical angina</td>\n",
       "      <td>145</td>\n",
       "      <td>233.000000</td>\n",
       "      <td>True</td>\n",
       "      <td>lv hypertrophy</td>\n",
       "      <td>150</td>\n",
       "      <td>True</td>\n",
       "      <td>2.300000</td>\n",
       "      <td>downsloping</td>\n",
       "      <td>fixed defect</td>\n",
       "      <td>0</td>\n",
       "    </tr>\n",
       "    <tr>\n",
       "      <th>1</th>\n",
       "      <td>41</td>\n",
       "      <td>Male</td>\n",
       "      <td>atypical angina</td>\n",
       "      <td>135</td>\n",
       "      <td>203.000000</td>\n",
       "      <td>False</td>\n",
       "      <td>normal</td>\n",
       "      <td>132</td>\n",
       "      <td>True</td>\n",
       "      <td>0.000000</td>\n",
       "      <td>flat</td>\n",
       "      <td>fixed defect</td>\n",
       "      <td>0</td>\n",
       "    </tr>\n",
       "    <tr>\n",
       "      <th>2</th>\n",
       "      <td>57</td>\n",
       "      <td>Male</td>\n",
       "      <td>asymptomatic</td>\n",
       "      <td>140</td>\n",
       "      <td>192.000000</td>\n",
       "      <td>False</td>\n",
       "      <td>normal</td>\n",
       "      <td>148</td>\n",
       "      <td>True</td>\n",
       "      <td>0.400000</td>\n",
       "      <td>flat</td>\n",
       "      <td>fixed defect</td>\n",
       "      <td>0</td>\n",
       "    </tr>\n",
       "    <tr>\n",
       "      <th>3</th>\n",
       "      <td>52</td>\n",
       "      <td>Male</td>\n",
       "      <td>typical angina</td>\n",
       "      <td>118</td>\n",
       "      <td>186.000000</td>\n",
       "      <td>False</td>\n",
       "      <td>lv hypertrophy</td>\n",
       "      <td>190</td>\n",
       "      <td>True</td>\n",
       "      <td>0.000000</td>\n",
       "      <td>flat</td>\n",
       "      <td>fixed defect</td>\n",
       "      <td>0</td>\n",
       "    </tr>\n",
       "    <tr>\n",
       "      <th>4</th>\n",
       "      <td>57</td>\n",
       "      <td>Male</td>\n",
       "      <td>asymptomatic</td>\n",
       "      <td>110</td>\n",
       "      <td>201.000000</td>\n",
       "      <td>False</td>\n",
       "      <td>normal</td>\n",
       "      <td>126</td>\n",
       "      <td>True</td>\n",
       "      <td>1.500000</td>\n",
       "      <td>flat</td>\n",
       "      <td>fixed defect</td>\n",
       "      <td>0</td>\n",
       "    </tr>\n",
       "    <tr>\n",
       "      <th>...</th>\n",
       "      <td>...</td>\n",
       "      <td>...</td>\n",
       "      <td>...</td>\n",
       "      <td>...</td>\n",
       "      <td>...</td>\n",
       "      <td>...</td>\n",
       "      <td>...</td>\n",
       "      <td>...</td>\n",
       "      <td>...</td>\n",
       "      <td>...</td>\n",
       "      <td>...</td>\n",
       "      <td>...</td>\n",
       "      <td>...</td>\n",
       "    </tr>\n",
       "    <tr>\n",
       "      <th>903</th>\n",
       "      <td>53</td>\n",
       "      <td>Male</td>\n",
       "      <td>asymptomatic</td>\n",
       "      <td>125</td>\n",
       "      <td>248.631293</td>\n",
       "      <td>False</td>\n",
       "      <td>normal</td>\n",
       "      <td>120</td>\n",
       "      <td>True</td>\n",
       "      <td>1.500000</td>\n",
       "      <td>upsloping</td>\n",
       "      <td>reversable defect</td>\n",
       "      <td>4</td>\n",
       "    </tr>\n",
       "    <tr>\n",
       "      <th>904</th>\n",
       "      <td>62</td>\n",
       "      <td>Male</td>\n",
       "      <td>asymptomatic</td>\n",
       "      <td>160</td>\n",
       "      <td>172.000000</td>\n",
       "      <td>False</td>\n",
       "      <td>st-t abnormality</td>\n",
       "      <td>120</td>\n",
       "      <td>True</td>\n",
       "      <td>2.400000</td>\n",
       "      <td>flat</td>\n",
       "      <td>reversable defect</td>\n",
       "      <td>4</td>\n",
       "    </tr>\n",
       "    <tr>\n",
       "      <th>905</th>\n",
       "      <td>56</td>\n",
       "      <td>Male</td>\n",
       "      <td>non-anginal</td>\n",
       "      <td>160</td>\n",
       "      <td>248.631293</td>\n",
       "      <td>False</td>\n",
       "      <td>lv hypertrophy</td>\n",
       "      <td>123</td>\n",
       "      <td>True</td>\n",
       "      <td>2.400000</td>\n",
       "      <td>downsloping</td>\n",
       "      <td>normal</td>\n",
       "      <td>4</td>\n",
       "    </tr>\n",
       "    <tr>\n",
       "      <th>906</th>\n",
       "      <td>56</td>\n",
       "      <td>Male</td>\n",
       "      <td>non-anginal</td>\n",
       "      <td>144</td>\n",
       "      <td>208.000000</td>\n",
       "      <td>True</td>\n",
       "      <td>st-t abnormality</td>\n",
       "      <td>105</td>\n",
       "      <td>True</td>\n",
       "      <td>0.892308</td>\n",
       "      <td>downsloping</td>\n",
       "      <td>fixed defect</td>\n",
       "      <td>4</td>\n",
       "    </tr>\n",
       "    <tr>\n",
       "      <th>907</th>\n",
       "      <td>57</td>\n",
       "      <td>Male</td>\n",
       "      <td>asymptomatic</td>\n",
       "      <td>142</td>\n",
       "      <td>277.000000</td>\n",
       "      <td>True</td>\n",
       "      <td>st-t abnormality</td>\n",
       "      <td>182</td>\n",
       "      <td>False</td>\n",
       "      <td>0.892308</td>\n",
       "      <td>flat</td>\n",
       "      <td>reversable defect</td>\n",
       "      <td>4</td>\n",
       "    </tr>\n",
       "  </tbody>\n",
       "</table>\n",
       "<p>907 rows × 13 columns</p>\n",
       "</div>"
      ],
      "text/plain": [
       "     age   sex               cp  trestbps        chol    fbs  \\\n",
       "0     63  Male   typical angina       145  233.000000   True   \n",
       "1     41  Male  atypical angina       135  203.000000  False   \n",
       "2     57  Male     asymptomatic       140  192.000000  False   \n",
       "3     52  Male   typical angina       118  186.000000  False   \n",
       "4     57  Male     asymptomatic       110  201.000000  False   \n",
       "..   ...   ...              ...       ...         ...    ...   \n",
       "903   53  Male     asymptomatic       125  248.631293  False   \n",
       "904   62  Male     asymptomatic       160  172.000000  False   \n",
       "905   56  Male      non-anginal       160  248.631293  False   \n",
       "906   56  Male      non-anginal       144  208.000000   True   \n",
       "907   57  Male     asymptomatic       142  277.000000   True   \n",
       "\n",
       "              restecg  thalch  exang   oldpeak        slope  \\\n",
       "0      lv hypertrophy     150   True  2.300000  downsloping   \n",
       "1              normal     132   True  0.000000         flat   \n",
       "2              normal     148   True  0.400000         flat   \n",
       "3      lv hypertrophy     190   True  0.000000         flat   \n",
       "4              normal     126   True  1.500000         flat   \n",
       "..                ...     ...    ...       ...          ...   \n",
       "903            normal     120   True  1.500000    upsloping   \n",
       "904  st-t abnormality     120   True  2.400000         flat   \n",
       "905    lv hypertrophy     123   True  2.400000  downsloping   \n",
       "906  st-t abnormality     105   True  0.892308  downsloping   \n",
       "907  st-t abnormality     182  False  0.892308         flat   \n",
       "\n",
       "                  thal  num  \n",
       "0         fixed defect    0  \n",
       "1         fixed defect    0  \n",
       "2         fixed defect    0  \n",
       "3         fixed defect    0  \n",
       "4         fixed defect    0  \n",
       "..                 ...  ...  \n",
       "903  reversable defect    4  \n",
       "904  reversable defect    4  \n",
       "905             normal    4  \n",
       "906       fixed defect    4  \n",
       "907  reversable defect    4  \n",
       "\n",
       "[907 rows x 13 columns]"
      ]
     },
     "execution_count": 585,
     "metadata": {},
     "output_type": "execute_result"
    }
   ],
   "source": [
    "df"
   ]
  },
  {
   "cell_type": "code",
   "execution_count": 586,
   "id": "61719f5b",
   "metadata": {},
   "outputs": [
    {
     "name": "stdout",
     "output_type": "stream",
     "text": [
      "<class 'pandas.core.frame.DataFrame'>\n",
      "Int64Index: 907 entries, 0 to 907\n",
      "Data columns (total 13 columns):\n",
      " #   Column    Non-Null Count  Dtype  \n",
      "---  ------    --------------  -----  \n",
      " 0   age       907 non-null    int64  \n",
      " 1   sex       907 non-null    object \n",
      " 2   cp        907 non-null    object \n",
      " 3   trestbps  907 non-null    int64  \n",
      " 4   chol      907 non-null    float64\n",
      " 5   fbs       907 non-null    bool   \n",
      " 6   restecg   907 non-null    object \n",
      " 7   thalch    907 non-null    int64  \n",
      " 8   exang     907 non-null    bool   \n",
      " 9   oldpeak   907 non-null    float64\n",
      " 10  slope     907 non-null    object \n",
      " 11  thal      907 non-null    object \n",
      " 12  num       907 non-null    int64  \n",
      "dtypes: bool(2), float64(2), int64(4), object(5)\n",
      "memory usage: 86.8+ KB\n"
     ]
    }
   ],
   "source": [
    "df.info()"
   ]
  },
  {
   "cell_type": "code",
   "execution_count": 587,
   "id": "9c14e4bf",
   "metadata": {},
   "outputs": [
    {
     "data": {
      "text/plain": [
       "['sex', 'cp', 'restecg', 'slope', 'thal']"
      ]
     },
     "execution_count": 587,
     "metadata": {},
     "output_type": "execute_result"
    }
   ],
   "source": [
    "object_columns = df.select_dtypes(include=['object']).columns.tolist()\n",
    "object_columns"
   ]
  },
  {
   "cell_type": "code",
   "execution_count": 588,
   "id": "3d540ab0",
   "metadata": {},
   "outputs": [],
   "source": [
    "encoded_df = pd.get_dummies(df, columns=object_columns)"
   ]
  },
  {
   "cell_type": "code",
   "execution_count": 589,
   "id": "aba094d4",
   "metadata": {},
   "outputs": [
    {
     "data": {
      "text/html": [
       "<div>\n",
       "<style scoped>\n",
       "    .dataframe tbody tr th:only-of-type {\n",
       "        vertical-align: middle;\n",
       "    }\n",
       "\n",
       "    .dataframe tbody tr th {\n",
       "        vertical-align: top;\n",
       "    }\n",
       "\n",
       "    .dataframe thead th {\n",
       "        text-align: right;\n",
       "    }\n",
       "</style>\n",
       "<table border=\"1\" class=\"dataframe\">\n",
       "  <thead>\n",
       "    <tr style=\"text-align: right;\">\n",
       "      <th></th>\n",
       "      <th>age</th>\n",
       "      <th>trestbps</th>\n",
       "      <th>chol</th>\n",
       "      <th>fbs</th>\n",
       "      <th>thalch</th>\n",
       "      <th>exang</th>\n",
       "      <th>oldpeak</th>\n",
       "      <th>num</th>\n",
       "      <th>sex_Female</th>\n",
       "      <th>sex_Male</th>\n",
       "      <th>...</th>\n",
       "      <th>cp_typical angina</th>\n",
       "      <th>restecg_lv hypertrophy</th>\n",
       "      <th>restecg_normal</th>\n",
       "      <th>restecg_st-t abnormality</th>\n",
       "      <th>slope_downsloping</th>\n",
       "      <th>slope_flat</th>\n",
       "      <th>slope_upsloping</th>\n",
       "      <th>thal_fixed defect</th>\n",
       "      <th>thal_normal</th>\n",
       "      <th>thal_reversable defect</th>\n",
       "    </tr>\n",
       "  </thead>\n",
       "  <tbody>\n",
       "    <tr>\n",
       "      <th>0</th>\n",
       "      <td>63</td>\n",
       "      <td>145</td>\n",
       "      <td>233.000000</td>\n",
       "      <td>True</td>\n",
       "      <td>150</td>\n",
       "      <td>True</td>\n",
       "      <td>2.300000</td>\n",
       "      <td>0</td>\n",
       "      <td>0</td>\n",
       "      <td>1</td>\n",
       "      <td>...</td>\n",
       "      <td>1</td>\n",
       "      <td>1</td>\n",
       "      <td>0</td>\n",
       "      <td>0</td>\n",
       "      <td>1</td>\n",
       "      <td>0</td>\n",
       "      <td>0</td>\n",
       "      <td>1</td>\n",
       "      <td>0</td>\n",
       "      <td>0</td>\n",
       "    </tr>\n",
       "    <tr>\n",
       "      <th>1</th>\n",
       "      <td>41</td>\n",
       "      <td>135</td>\n",
       "      <td>203.000000</td>\n",
       "      <td>False</td>\n",
       "      <td>132</td>\n",
       "      <td>True</td>\n",
       "      <td>0.000000</td>\n",
       "      <td>0</td>\n",
       "      <td>0</td>\n",
       "      <td>1</td>\n",
       "      <td>...</td>\n",
       "      <td>0</td>\n",
       "      <td>0</td>\n",
       "      <td>1</td>\n",
       "      <td>0</td>\n",
       "      <td>0</td>\n",
       "      <td>1</td>\n",
       "      <td>0</td>\n",
       "      <td>1</td>\n",
       "      <td>0</td>\n",
       "      <td>0</td>\n",
       "    </tr>\n",
       "    <tr>\n",
       "      <th>2</th>\n",
       "      <td>57</td>\n",
       "      <td>140</td>\n",
       "      <td>192.000000</td>\n",
       "      <td>False</td>\n",
       "      <td>148</td>\n",
       "      <td>True</td>\n",
       "      <td>0.400000</td>\n",
       "      <td>0</td>\n",
       "      <td>0</td>\n",
       "      <td>1</td>\n",
       "      <td>...</td>\n",
       "      <td>0</td>\n",
       "      <td>0</td>\n",
       "      <td>1</td>\n",
       "      <td>0</td>\n",
       "      <td>0</td>\n",
       "      <td>1</td>\n",
       "      <td>0</td>\n",
       "      <td>1</td>\n",
       "      <td>0</td>\n",
       "      <td>0</td>\n",
       "    </tr>\n",
       "    <tr>\n",
       "      <th>3</th>\n",
       "      <td>52</td>\n",
       "      <td>118</td>\n",
       "      <td>186.000000</td>\n",
       "      <td>False</td>\n",
       "      <td>190</td>\n",
       "      <td>True</td>\n",
       "      <td>0.000000</td>\n",
       "      <td>0</td>\n",
       "      <td>0</td>\n",
       "      <td>1</td>\n",
       "      <td>...</td>\n",
       "      <td>1</td>\n",
       "      <td>1</td>\n",
       "      <td>0</td>\n",
       "      <td>0</td>\n",
       "      <td>0</td>\n",
       "      <td>1</td>\n",
       "      <td>0</td>\n",
       "      <td>1</td>\n",
       "      <td>0</td>\n",
       "      <td>0</td>\n",
       "    </tr>\n",
       "    <tr>\n",
       "      <th>4</th>\n",
       "      <td>57</td>\n",
       "      <td>110</td>\n",
       "      <td>201.000000</td>\n",
       "      <td>False</td>\n",
       "      <td>126</td>\n",
       "      <td>True</td>\n",
       "      <td>1.500000</td>\n",
       "      <td>0</td>\n",
       "      <td>0</td>\n",
       "      <td>1</td>\n",
       "      <td>...</td>\n",
       "      <td>0</td>\n",
       "      <td>0</td>\n",
       "      <td>1</td>\n",
       "      <td>0</td>\n",
       "      <td>0</td>\n",
       "      <td>1</td>\n",
       "      <td>0</td>\n",
       "      <td>1</td>\n",
       "      <td>0</td>\n",
       "      <td>0</td>\n",
       "    </tr>\n",
       "    <tr>\n",
       "      <th>...</th>\n",
       "      <td>...</td>\n",
       "      <td>...</td>\n",
       "      <td>...</td>\n",
       "      <td>...</td>\n",
       "      <td>...</td>\n",
       "      <td>...</td>\n",
       "      <td>...</td>\n",
       "      <td>...</td>\n",
       "      <td>...</td>\n",
       "      <td>...</td>\n",
       "      <td>...</td>\n",
       "      <td>...</td>\n",
       "      <td>...</td>\n",
       "      <td>...</td>\n",
       "      <td>...</td>\n",
       "      <td>...</td>\n",
       "      <td>...</td>\n",
       "      <td>...</td>\n",
       "      <td>...</td>\n",
       "      <td>...</td>\n",
       "      <td>...</td>\n",
       "    </tr>\n",
       "    <tr>\n",
       "      <th>903</th>\n",
       "      <td>53</td>\n",
       "      <td>125</td>\n",
       "      <td>248.631293</td>\n",
       "      <td>False</td>\n",
       "      <td>120</td>\n",
       "      <td>True</td>\n",
       "      <td>1.500000</td>\n",
       "      <td>4</td>\n",
       "      <td>0</td>\n",
       "      <td>1</td>\n",
       "      <td>...</td>\n",
       "      <td>0</td>\n",
       "      <td>0</td>\n",
       "      <td>1</td>\n",
       "      <td>0</td>\n",
       "      <td>0</td>\n",
       "      <td>0</td>\n",
       "      <td>1</td>\n",
       "      <td>0</td>\n",
       "      <td>0</td>\n",
       "      <td>1</td>\n",
       "    </tr>\n",
       "    <tr>\n",
       "      <th>904</th>\n",
       "      <td>62</td>\n",
       "      <td>160</td>\n",
       "      <td>172.000000</td>\n",
       "      <td>False</td>\n",
       "      <td>120</td>\n",
       "      <td>True</td>\n",
       "      <td>2.400000</td>\n",
       "      <td>4</td>\n",
       "      <td>0</td>\n",
       "      <td>1</td>\n",
       "      <td>...</td>\n",
       "      <td>0</td>\n",
       "      <td>0</td>\n",
       "      <td>0</td>\n",
       "      <td>1</td>\n",
       "      <td>0</td>\n",
       "      <td>1</td>\n",
       "      <td>0</td>\n",
       "      <td>0</td>\n",
       "      <td>0</td>\n",
       "      <td>1</td>\n",
       "    </tr>\n",
       "    <tr>\n",
       "      <th>905</th>\n",
       "      <td>56</td>\n",
       "      <td>160</td>\n",
       "      <td>248.631293</td>\n",
       "      <td>False</td>\n",
       "      <td>123</td>\n",
       "      <td>True</td>\n",
       "      <td>2.400000</td>\n",
       "      <td>4</td>\n",
       "      <td>0</td>\n",
       "      <td>1</td>\n",
       "      <td>...</td>\n",
       "      <td>0</td>\n",
       "      <td>1</td>\n",
       "      <td>0</td>\n",
       "      <td>0</td>\n",
       "      <td>1</td>\n",
       "      <td>0</td>\n",
       "      <td>0</td>\n",
       "      <td>0</td>\n",
       "      <td>1</td>\n",
       "      <td>0</td>\n",
       "    </tr>\n",
       "    <tr>\n",
       "      <th>906</th>\n",
       "      <td>56</td>\n",
       "      <td>144</td>\n",
       "      <td>208.000000</td>\n",
       "      <td>True</td>\n",
       "      <td>105</td>\n",
       "      <td>True</td>\n",
       "      <td>0.892308</td>\n",
       "      <td>4</td>\n",
       "      <td>0</td>\n",
       "      <td>1</td>\n",
       "      <td>...</td>\n",
       "      <td>0</td>\n",
       "      <td>0</td>\n",
       "      <td>0</td>\n",
       "      <td>1</td>\n",
       "      <td>1</td>\n",
       "      <td>0</td>\n",
       "      <td>0</td>\n",
       "      <td>1</td>\n",
       "      <td>0</td>\n",
       "      <td>0</td>\n",
       "    </tr>\n",
       "    <tr>\n",
       "      <th>907</th>\n",
       "      <td>57</td>\n",
       "      <td>142</td>\n",
       "      <td>277.000000</td>\n",
       "      <td>True</td>\n",
       "      <td>182</td>\n",
       "      <td>False</td>\n",
       "      <td>0.892308</td>\n",
       "      <td>4</td>\n",
       "      <td>0</td>\n",
       "      <td>1</td>\n",
       "      <td>...</td>\n",
       "      <td>0</td>\n",
       "      <td>0</td>\n",
       "      <td>0</td>\n",
       "      <td>1</td>\n",
       "      <td>0</td>\n",
       "      <td>1</td>\n",
       "      <td>0</td>\n",
       "      <td>0</td>\n",
       "      <td>0</td>\n",
       "      <td>1</td>\n",
       "    </tr>\n",
       "  </tbody>\n",
       "</table>\n",
       "<p>907 rows × 23 columns</p>\n",
       "</div>"
      ],
      "text/plain": [
       "     age  trestbps        chol    fbs  thalch  exang   oldpeak  num  \\\n",
       "0     63       145  233.000000   True     150   True  2.300000    0   \n",
       "1     41       135  203.000000  False     132   True  0.000000    0   \n",
       "2     57       140  192.000000  False     148   True  0.400000    0   \n",
       "3     52       118  186.000000  False     190   True  0.000000    0   \n",
       "4     57       110  201.000000  False     126   True  1.500000    0   \n",
       "..   ...       ...         ...    ...     ...    ...       ...  ...   \n",
       "903   53       125  248.631293  False     120   True  1.500000    4   \n",
       "904   62       160  172.000000  False     120   True  2.400000    4   \n",
       "905   56       160  248.631293  False     123   True  2.400000    4   \n",
       "906   56       144  208.000000   True     105   True  0.892308    4   \n",
       "907   57       142  277.000000   True     182  False  0.892308    4   \n",
       "\n",
       "     sex_Female  sex_Male  ...  cp_typical angina  restecg_lv hypertrophy  \\\n",
       "0             0         1  ...                  1                       1   \n",
       "1             0         1  ...                  0                       0   \n",
       "2             0         1  ...                  0                       0   \n",
       "3             0         1  ...                  1                       1   \n",
       "4             0         1  ...                  0                       0   \n",
       "..          ...       ...  ...                ...                     ...   \n",
       "903           0         1  ...                  0                       0   \n",
       "904           0         1  ...                  0                       0   \n",
       "905           0         1  ...                  0                       1   \n",
       "906           0         1  ...                  0                       0   \n",
       "907           0         1  ...                  0                       0   \n",
       "\n",
       "     restecg_normal  restecg_st-t abnormality  slope_downsloping  slope_flat  \\\n",
       "0                 0                         0                  1           0   \n",
       "1                 1                         0                  0           1   \n",
       "2                 1                         0                  0           1   \n",
       "3                 0                         0                  0           1   \n",
       "4                 1                         0                  0           1   \n",
       "..              ...                       ...                ...         ...   \n",
       "903               1                         0                  0           0   \n",
       "904               0                         1                  0           1   \n",
       "905               0                         0                  1           0   \n",
       "906               0                         1                  1           0   \n",
       "907               0                         1                  0           1   \n",
       "\n",
       "     slope_upsloping  thal_fixed defect  thal_normal  thal_reversable defect  \n",
       "0                  0                  1            0                       0  \n",
       "1                  0                  1            0                       0  \n",
       "2                  0                  1            0                       0  \n",
       "3                  0                  1            0                       0  \n",
       "4                  0                  1            0                       0  \n",
       "..               ...                ...          ...                     ...  \n",
       "903                1                  0            0                       1  \n",
       "904                0                  0            0                       1  \n",
       "905                0                  0            1                       0  \n",
       "906                0                  1            0                       0  \n",
       "907                0                  0            0                       1  \n",
       "\n",
       "[907 rows x 23 columns]"
      ]
     },
     "execution_count": 589,
     "metadata": {},
     "output_type": "execute_result"
    }
   ],
   "source": [
    "encoded_df"
   ]
  },
  {
   "cell_type": "markdown",
   "id": "c0ac7b8e",
   "metadata": {},
   "source": [
    "# Spliting the data for training and testing"
   ]
  },
  {
   "cell_type": "code",
   "execution_count": 600,
   "id": "38541242",
   "metadata": {},
   "outputs": [],
   "source": [
    "X = encoded_df.drop('num', axis=1) #Since number is target"
   ]
  },
  {
   "cell_type": "code",
   "execution_count": 601,
   "id": "1c3d7e5e",
   "metadata": {},
   "outputs": [],
   "source": [
    "y = encoded_df['num']"
   ]
  },
  {
   "cell_type": "code",
   "execution_count": 602,
   "id": "fccd29d7",
   "metadata": {},
   "outputs": [],
   "source": [
    "from sklearn.model_selection import train_test_split"
   ]
  },
  {
   "cell_type": "code",
   "execution_count": 603,
   "id": "af5cb1f9",
   "metadata": {},
   "outputs": [],
   "source": [
    "X_train, X_test, y_train, y_test = train_test_split(X, y, test_size=0.2, random_state=42)"
   ]
  },
  {
   "cell_type": "markdown",
   "id": "a94b415c",
   "metadata": {},
   "source": [
    "# Creating Decision Tree model"
   ]
  },
  {
   "cell_type": "code",
   "execution_count": 604,
   "id": "e3d893cb",
   "metadata": {},
   "outputs": [],
   "source": [
    "from sklearn.tree import DecisionTreeClassifier"
   ]
  },
  {
   "cell_type": "code",
   "execution_count": 605,
   "id": "6c58d921",
   "metadata": {},
   "outputs": [],
   "source": [
    "model = DecisionTreeClassifier()"
   ]
  },
  {
   "cell_type": "markdown",
   "id": "80342e6c",
   "metadata": {},
   "source": [
    "# Fitting the model"
   ]
  },
  {
   "cell_type": "code",
   "execution_count": 606,
   "id": "899ed88d",
   "metadata": {},
   "outputs": [
    {
     "data": {
      "text/plain": [
       "DecisionTreeClassifier()"
      ]
     },
     "execution_count": 606,
     "metadata": {},
     "output_type": "execute_result"
    }
   ],
   "source": [
    "model.fit(X_train, y_train)"
   ]
  },
  {
   "cell_type": "markdown",
   "id": "3b361dfb",
   "metadata": {},
   "source": [
    "# Model Evaluation"
   ]
  },
  {
   "cell_type": "code",
   "execution_count": 607,
   "id": "684644ec",
   "metadata": {},
   "outputs": [],
   "source": [
    "y_pred  = model.predict(X_test)"
   ]
  },
  {
   "cell_type": "code",
   "execution_count": 608,
   "id": "2d7e7f53",
   "metadata": {},
   "outputs": [],
   "source": [
    "from sklearn.metrics import classification_report"
   ]
  },
  {
   "cell_type": "code",
   "execution_count": 609,
   "id": "9fe73ee1",
   "metadata": {},
   "outputs": [],
   "source": [
    "report = classification_report(y_test, y_pred)"
   ]
  },
  {
   "cell_type": "code",
   "execution_count": 610,
   "id": "fce2134c",
   "metadata": {},
   "outputs": [
    {
     "name": "stdout",
     "output_type": "stream",
     "text": [
      "              precision    recall  f1-score   support\n",
      "\n",
      "           0       0.72      0.72      0.72        89\n",
      "           1       0.31      0.36      0.34        47\n",
      "           2       0.13      0.10      0.11        20\n",
      "           3       0.21      0.24      0.22        17\n",
      "           4       0.00      0.00      0.00         9\n",
      "\n",
      "    accuracy                           0.48       182\n",
      "   macro avg       0.28      0.28      0.28       182\n",
      "weighted avg       0.47      0.48      0.47       182\n",
      "\n"
     ]
    }
   ],
   "source": [
    "print(report)"
   ]
  },
  {
   "cell_type": "markdown",
   "id": "cb010046",
   "metadata": {},
   "source": [
    "# Plotting Tree"
   ]
  },
  {
   "cell_type": "code",
   "execution_count": 611,
   "id": "b4de4cea",
   "metadata": {},
   "outputs": [],
   "source": [
    "from sklearn import tree"
   ]
  },
  {
   "cell_type": "code",
   "execution_count": 613,
   "id": "9380681c",
   "metadata": {},
   "outputs": [
    {
     "data": {
      "image/png": "[encoded data removed]",
      "text/plain": [
       "<Figure size 640x480 with 1 Axes>"
      ]
     },
     "metadata": {},
     "output_type": "display_data"
    }
   ],
   "source": [
    "tree.plot_tree(model)\n",
    "plt.show()"
   ]
  },
  {
   "cell_type": "markdown",
   "id": "f9c5c740",
   "metadata": {},
   "source": [
    "# HyperParameter Tuning"
   ]
  },
  {
   "cell_type": "markdown",
   "id": "f76d1807",
   "metadata": {},
   "source": [
    "#### selecting max_depth, min_sample_split and criterion"
   ]
  },
  {
   "cell_type": "code",
   "execution_count": 686,
   "id": "dfca09e5",
   "metadata": {},
   "outputs": [],
   "source": [
    "model1 = DecisionTreeClassifier(max_depth=5, criterion='entropy', min_samples_split=60, max_features=12)"
   ]
  },
  {
   "cell_type": "code",
   "execution_count": 687,
   "id": "6e05a570",
   "metadata": {},
   "outputs": [
    {
     "data": {
      "text/plain": [
       "DecisionTreeClassifier(criterion='entropy', max_depth=5, max_features=12,\n",
       "                       min_samples_split=60)"
      ]
     },
     "execution_count": 687,
     "metadata": {},
     "output_type": "execute_result"
    }
   ],
   "source": [
    "model1.fit(X_train, y_train)"
   ]
  },
  {
   "cell_type": "code",
   "execution_count": 688,
   "id": "5ab28fc1",
   "metadata": {},
   "outputs": [],
   "source": [
    "y_pred1  = model1.predict(X_test)"
   ]
  },
  {
   "cell_type": "code",
   "execution_count": 689,
   "id": "28c09fff",
   "metadata": {},
   "outputs": [
    {
     "name": "stderr",
     "output_type": "stream",
     "text": [
      "C:\\Users\\Sunny\\anaconda3\\lib\\site-packages\\sklearn\\metrics\\_classification.py:1318: UndefinedMetricWarning: Precision and F-score are ill-defined and being set to 0.0 in labels with no predicted samples. Use `zero_division` parameter to control this behavior.\n",
      "  _warn_prf(average, modifier, msg_start, len(result))\n",
      "C:\\Users\\Sunny\\anaconda3\\lib\\site-packages\\sklearn\\metrics\\_classification.py:1318: UndefinedMetricWarning: Precision and F-score are ill-defined and being set to 0.0 in labels with no predicted samples. Use `zero_division` parameter to control this behavior.\n",
      "  _warn_prf(average, modifier, msg_start, len(result))\n",
      "C:\\Users\\Sunny\\anaconda3\\lib\\site-packages\\sklearn\\metrics\\_classification.py:1318: UndefinedMetricWarning: Precision and F-score are ill-defined and being set to 0.0 in labels with no predicted samples. Use `zero_division` parameter to control this behavior.\n",
      "  _warn_prf(average, modifier, msg_start, len(result))\n"
     ]
    }
   ],
   "source": [
    "report1 = classification_report(y_test, y_pred1)"
   ]
  },
  {
   "cell_type": "code",
   "execution_count": 690,
   "id": "93de07aa",
   "metadata": {},
   "outputs": [
    {
     "name": "stdout",
     "output_type": "stream",
     "text": [
      "              precision    recall  f1-score   support\n",
      "\n",
      "           0       0.68      0.85      0.76        89\n",
      "           1       0.42      0.60      0.50        47\n",
      "           2       0.00      0.00      0.00        20\n",
      "           3       0.00      0.00      0.00        17\n",
      "           4       0.00      0.00      0.00         9\n",
      "\n",
      "    accuracy                           0.57       182\n",
      "   macro avg       0.22      0.29      0.25       182\n",
      "weighted avg       0.44      0.57      0.50       182\n",
      "\n"
     ]
    }
   ],
   "source": [
    "print(report1)"
   ]
  },
  {
   "cell_type": "code",
   "execution_count": 691,
   "id": "4424b963",
   "metadata": {},
   "outputs": [
    {
     "data": {
      "image/png": "[encoded data removed]",
      "text/plain": [
       "<Figure size 640x480 with 1 Axes>"
      ]
     },
     "metadata": {},
     "output_type": "display_data"
    }
   ],
   "source": [
    "tree.plot_tree(model1)\n",
    "plt.show()"
   ]
  },
  {
   "cell_type": "code",
   "execution_count": null,
   "id": "2f094d37",
   "metadata": {},
   "outputs": [],
   "source": []
  }
 ],
 "metadata": {
  "kernelspec": {
   "display_name": "Python 3 (ipykernel)",
   "language": "python",
   "name": "python3"
  },
  "language_info": {
   "codemirror_mode": {
    "name": "ipython",
    "version": 3
   },
   "file_extension": ".py",
   "mimetype": "text/x-python",
   "name": "python",
   "nbconvert_exporter": "python",
   "pygments_lexer": "ipython3",
   "version": "3.9.13"
  }
 },
 "nbformat": 4,
 "nbformat_minor": 5
}
