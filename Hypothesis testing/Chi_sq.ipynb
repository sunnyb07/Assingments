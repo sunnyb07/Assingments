{
 "cells": [
  {
   "cell_type": "code",
   "execution_count": 1,
   "id": "b7111330",
   "metadata": {},
   "outputs": [],
   "source": [
    "import numpy as np\n",
    "from scipy.stats import chi2_contingency"
   ]
  },
  {
   "cell_type": "code",
   "execution_count": 2,
   "id": "ad928b94",
   "metadata": {},
   "outputs": [],
   "source": [
    "# Define the contingency table\n",
    "observed = np.array([[50, 70],\n",
    "                     [80, 100],\n",
    "                     [60, 90],\n",
    "                     [30, 50],\n",
    "                     [20, 50]])"
   ]
  },
  {
   "cell_type": "code",
   "execution_count": 8,
   "id": "b872cec9",
   "metadata": {},
   "outputs": [
    {
     "data": {
      "text/plain": [
       "array([[ 48.,  72.],\n",
       "       [ 72., 108.],\n",
       "       [ 60.,  90.],\n",
       "       [ 32.,  48.],\n",
       "       [ 28.,  42.]])"
      ]
     },
     "execution_count": 8,
     "metadata": {},
     "output_type": "execute_result"
    }
   ],
   "source": [
    "# Compute the Chi-Square test\n",
    "chi2, p, dof, expected = chi2_contingency(observed)\n",
    "\n",
    "expected"
   ]
  },
  {
   "cell_type": "code",
   "execution_count": 4,
   "id": "1969d400",
   "metadata": {},
   "outputs": [],
   "source": [
    "# Define the significance level (alpha)\n",
    "alpha = 0.05"
   ]
  },
  {
   "cell_type": "code",
   "execution_count": 5,
   "id": "229ae7f9",
   "metadata": {},
   "outputs": [],
   "source": [
    "# Determine the critical value\n",
    "critical_value = chi2_contingency(observed)[0]"
   ]
  },
  {
   "cell_type": "code",
   "execution_count": 6,
   "id": "8f1cce23",
   "metadata": {},
   "outputs": [
    {
     "name": "stdout",
     "output_type": "stream",
     "text": [
      "Chi-Square Statistic: 5.638227513227513\n",
      "Critical Value: 5.638227513227513\n",
      "Degrees of Freedom: 4\n",
      "p-value: 0.22784371130697179\n"
     ]
    }
   ],
   "source": [
    "# Print the results\n",
    "print(\"Chi-Square Statistic:\", chi2)\n",
    "print(\"Critical Value:\", critical_value)\n",
    "print(\"Degrees of Freedom:\", dof)\n",
    "print(\"p-value:\", p)"
   ]
  },
  {
   "cell_type": "code",
   "execution_count": 9,
   "id": "23f3eb74",
   "metadata": {},
   "outputs": [
    {
     "name": "stdout",
     "output_type": "stream",
     "text": [
      "Fail to reject the null hypothesis: There is no significant association between device type and customer satisfaction.\n"
     ]
    }
   ],
   "source": [
    "# Make a decision\n",
    "if p < alpha:\n",
    "    print(\"Reject the null hypothesis: There is a significant association between device type and customer satisfaction.\")\n",
    "else:\n",
    "    print(\"Fail to reject the null hypothesis: There is no significant association between device type and customer satisfaction.\")"
   ]
  },
  {
   "cell_type": "code",
   "execution_count": null,
   "id": "748afb15",
   "metadata": {},
   "outputs": [],
   "source": []
  }
 ],
 "metadata": {
  "kernelspec": {
   "display_name": "Python 3 (ipykernel)",
   "language": "python",
   "name": "python3"
  },
  "language_info": {
   "codemirror_mode": {
    "name": "ipython",
    "version": 3
   },
   "file_extension": ".py",
   "mimetype": "text/x-python",
   "name": "python",
   "nbconvert_exporter": "python",
   "pygments_lexer": "ipython3",
   "version": "3.9.13"
  }
 },
 "nbformat": 4,
 "nbformat_minor": 5
}
