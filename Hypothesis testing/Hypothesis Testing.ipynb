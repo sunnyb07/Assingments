{
 "cells": [
  {
   "cell_type": "code",
   "execution_count": 1,
   "id": "73b29ba4",
   "metadata": {},
   "outputs": [],
   "source": [
    "import numpy as np\n",
    "from scipy.stats import norm"
   ]
  },
  {
   "cell_type": "code",
   "execution_count": 2,
   "id": "063ce021",
   "metadata": {},
   "outputs": [],
   "source": [
    "# Given data\n",
    "sample_mean = 3050  # sample mean weekly cost (Rs.)\n",
    "theoretical_mean = 1000 + 5 * 600  # theoretical mean weekly cost according to the model (Rs.)\n",
    "sigma = 5 * 25  # standard deviation of the population (Rs.)\n",
    "n = 25  # sample size\n",
    "alpha = 0.05  # significance level"
   ]
  },
  {
   "cell_type": "code",
   "execution_count": 3,
   "id": "14c78e5d",
   "metadata": {},
   "outputs": [],
   "source": [
    "# Step 1: State the Hypotheses statement\n",
    "# Null hypothesis (H0): The mean weekly operating cost is equal to the theoretical value\n",
    "# Alternative hypothesis (H1): The mean weekly operating cost is higher than the theoretical value"
   ]
  },
  {
   "cell_type": "code",
   "execution_count": 4,
   "id": "bf777812",
   "metadata": {},
   "outputs": [],
   "source": [
    "# Step 2: Calculate the Test Statistic\n",
    "test_statistic = (sample_mean - theoretical_mean) / (sigma / np.sqrt(n))"
   ]
  },
  {
   "cell_type": "code",
   "execution_count": 5,
   "id": "d56d336f",
   "metadata": {},
   "outputs": [],
   "source": [
    "# Step 3: Determine the Critical Value\n",
    "critical_value = norm.ppf(1 - alpha)"
   ]
  },
  {
   "cell_type": "code",
   "execution_count": 7,
   "id": "6bba5c82",
   "metadata": {},
   "outputs": [
    {
     "name": "stdout",
     "output_type": "stream",
     "text": [
      "Fail to reject the null hypothesis: There is not enough evidence to support the restaurant owners' claim that the weekly operating costs are higher than the model suggests.\n"
     ]
    }
   ],
   "source": [
    "# Step 4: Conclusion\n",
    "if test_statistic > critical_value:\n",
    "    print(\"Reject the null hypothesis: There is strong evidence to support the restaurant owners' claim that the weekly operating costs are higher than the model suggests.\")\n",
    "else:\n",
    "    print(\"Fail to reject the null hypothesis: There is not enough evidence to support the restaurant owners' claim that the weekly operating costs are higher than the model suggests.\")"
   ]
  },
  {
   "cell_type": "code",
   "execution_count": null,
   "id": "ec9c8c41",
   "metadata": {},
   "outputs": [],
   "source": []
  }
 ],
 "metadata": {
  "kernelspec": {
   "display_name": "Python 3 (ipykernel)",
   "language": "python",
   "name": "python3"
  },
  "language_info": {
   "codemirror_mode": {
    "name": "ipython",
    "version": 3
   },
   "file_extension": ".py",
   "mimetype": "text/x-python",
   "name": "python",
   "nbconvert_exporter": "python",
   "pygments_lexer": "ipython3",
   "version": "3.9.13"
  }
 },
 "nbformat": 4,
 "nbformat_minor": 5
}
